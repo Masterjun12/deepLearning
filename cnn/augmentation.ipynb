{
  "nbformat": 4,
  "nbformat_minor": 0,
  "metadata": {
    "colab": {
      "provenance": [],
      "gpuType": "T4",
      "authorship_tag": "ABX9TyPaBQcyeVkJC0JQsR4Te9RK",
      "include_colab_link": true
    },
    "kernelspec": {
      "name": "python3",
      "display_name": "Python 3"
    },
    "language_info": {
      "name": "python"
    },
    "accelerator": "GPU"
  },
  "cells": [
    {
      "cell_type": "markdown",
      "metadata": {
        "id": "view-in-github",
        "colab_type": "text"
      },
      "source": [
        "<a href=\"https://colab.research.google.com/github/NoCodeProgram/deepLearning/blob/main/cnn/augmentation.ipynb\" target=\"_parent\"><img src=\"https://colab.research.google.com/assets/colab-badge.svg\" alt=\"Open In Colab\"/></a>"
      ]
    },
    {
      "cell_type": "code",
      "execution_count": 1,
      "metadata": {
        "colab": {
          "base_uri": "https://localhost:8080/"
        },
        "id": "tYan0I2bCBgk",
        "outputId": "d702cd39-e3cb-4f11-b238-dfe5eb9ca5fc"
      },
      "outputs": [
        {
          "output_type": "stream",
          "name": "stdout",
          "text": [
            "cuda\n"
          ]
        }
      ],
      "source": [
        "import torch\n",
        "import torchvision\n",
        "import matplotlib.pyplot as plt\n",
        "\n",
        "if torch.backends.mps.is_available():\n",
        "    my_device = torch.device('mps')\n",
        "elif torch.cuda.is_available():\n",
        "    my_device = torch.device('cuda')\n",
        "else:\n",
        "    my_device = torch.device('cpu')\n",
        "\n",
        "print(my_device)"
      ]
    },
    {
      "cell_type": "code",
      "source": [
        "import torch\n",
        "import torch.nn as nn\n",
        "import torch.optim as optim\n",
        "import torchvision\n",
        "import torchvision.transforms as transforms\n",
        "\n",
        "# Load CIFAR10 dataset\n",
        "transform = transforms.Compose([\n",
        "    transforms.RandomHorizontalFlip(),\n",
        "    transforms.RandomVerticalFlip(),\n",
        "    transforms.RandomRotation(30),\n",
        "    transforms.RandomCrop(32, padding=4),\n",
        "    transforms.ColorJitter(brightness=0.5, contrast=0.5, saturation=0.5, hue=0.5),\n",
        "    transforms.ToTensor(),\n",
        "    transforms.Normalize((0.5, 0.5, 0.5), (0.5, 0.5, 0.5))\n",
        "])\n",
        "\n",
        "trainset = torchvision.datasets.CIFAR10(root='./data', train=True, download=True, transform=transform)\n",
        "trainloader = torch.utils.data.DataLoader(trainset, batch_size=8, shuffle=True, num_workers=8)\n",
        "\n",
        "test_transform = transforms.Compose([\n",
        "    transforms.ToTensor(),\n",
        "    transforms.Normalize((0.5, 0.5, 0.5), (0.5, 0.5, 0.5))\n",
        "])\n",
        "\n",
        "testset = torchvision.datasets.CIFAR10(root='./data', train=False, download=True, transform=test_transform)\n",
        "testloader = torch.utils.data.DataLoader(testset, batch_size=8, shuffle=False, num_workers=8)\n"
      ],
      "metadata": {
        "colab": {
          "base_uri": "https://localhost:8080/"
        },
        "id": "PjhR0Y0HCHYT",
        "outputId": "64c88adb-3683-4c65-f7cc-5e5922670f78"
      },
      "execution_count": 2,
      "outputs": [
        {
          "output_type": "stream",
          "name": "stdout",
          "text": [
            "Downloading https://www.cs.toronto.edu/~kriz/cifar-10-python.tar.gz to ./data/cifar-10-python.tar.gz\n"
          ]
        },
        {
          "output_type": "stream",
          "name": "stderr",
          "text": [
            "100%|██████████| 170498071/170498071 [00:03<00:00, 43284234.57it/s]\n"
          ]
        },
        {
          "output_type": "stream",
          "name": "stdout",
          "text": [
            "Extracting ./data/cifar-10-python.tar.gz to ./data\n"
          ]
        },
        {
          "output_type": "stream",
          "name": "stderr",
          "text": [
            "/usr/local/lib/python3.10/dist-packages/torch/utils/data/dataloader.py:560: UserWarning: This DataLoader will create 8 worker processes in total. Our suggested max number of worker in current system is 2, which is smaller than what this DataLoader is going to create. Please be aware that excessive worker creation might get DataLoader running slow or even freeze, lower the worker number to avoid potential slowness/freeze if necessary.\n",
            "  warnings.warn(_create_warning_msg(\n"
          ]
        },
        {
          "output_type": "stream",
          "name": "stdout",
          "text": [
            "Files already downloaded and verified\n"
          ]
        }
      ]
    },
    {
      "cell_type": "code",
      "source": [
        "\n",
        "class DoubleConvBlock(nn.Module):\n",
        "    def __init__(self, in_channels, out_channels, stride=1):\n",
        "        super().__init__()\n",
        "        self.block = nn.Sequential(\n",
        "            nn.Conv2d(in_channels, out_channels, kernel_size=3, stride=stride, padding=1, bias=False),\n",
        "            nn.BatchNorm2d(out_channels),\n",
        "            nn.ReLU(inplace=True),\n",
        "            nn.Conv2d(out_channels, out_channels, kernel_size=3, stride=1, padding=1, bias=False),\n",
        "            nn.BatchNorm2d(out_channels),\n",
        "            nn.ReLU(inplace=True),\n",
        "        )\n",
        "\n",
        "    def forward(self, x):\n",
        "        return self.block(x)\n",
        "\n",
        "class ModernGAPCNN(nn.Module):\n",
        "    def __init__(self, num_classes=10):\n",
        "        super().__init__()\n",
        "\n",
        "        self.features = nn.Sequential(\n",
        "            DoubleConvBlock(3, 64),\n",
        "            DoubleConvBlock(64, 128, stride=2),\n",
        "            DoubleConvBlock(128, 256, stride=2),\n",
        "        )\n",
        "\n",
        "        self.global_avg_pool = nn.AdaptiveAvgPool2d(1)\n",
        "        self.classifier = nn.Linear(256, num_classes)\n",
        "\n",
        "    def forward(self, x):\n",
        "        x = self.features(x)\n",
        "        x = self.global_avg_pool(x)\n",
        "        x = torch.flatten(x, 1)\n",
        "        x = self.classifier(x)\n",
        "        return x\n",
        "\n",
        "# Instantiate the network\n",
        "net = ModernGAPCNN(num_classes=10)\n",
        "\n",
        "# Loss function and optimizer\n",
        "criterion = nn.CrossEntropyLoss()\n",
        "optimizer = optim.Adam(net.parameters(), lr=0.0001)\n"
      ],
      "metadata": {
        "id": "_u-A6TSECQm6"
      },
      "execution_count": 3,
      "outputs": []
    },
    {
      "cell_type": "code",
      "source": [
        "net.to(my_device)\n",
        "num_epochs = 100\n",
        "for epoch in range(num_epochs):\n",
        "    net.train()\n",
        "    for batch_idx, (data, label) in enumerate(trainloader):\n",
        "        data, label = data.to(my_device), label.to(my_device)\n",
        "        scores = net(data)\n",
        "        loss = criterion(scores, label)\n",
        "\n",
        "        optimizer.zero_grad()\n",
        "        loss.backward()\n",
        "        optimizer.step()\n",
        "\n",
        "    net.eval()\n",
        "    val_loss = 0.0\n",
        "    correct = 0\n",
        "    with torch.no_grad():\n",
        "        for data, label in testloader:\n",
        "            data, label = data.to(my_device), label.to(my_device)\n",
        "            scores = net(data)\n",
        "            loss = criterion(scores, label)\n",
        "            val_loss += loss.item() * data.size(0)\n",
        "\n",
        "            predicted = scores.argmax(dim=1)\n",
        "            correct += predicted.eq(label).sum().item()\n",
        "\n",
        "    val_loss /= len(testloader.dataset)\n",
        "    val_accuracy = 100. * correct / len(testloader.dataset)\n",
        "\n",
        "    print(f\"Epoch [{epoch + 1}/{num_epochs}], Training Loss: {loss.item():.4f}, Validation Loss: {val_loss:.4f}, Validation Accuracy: {val_accuracy:.2f}%\")\n"
      ],
      "metadata": {
        "colab": {
          "base_uri": "https://localhost:8080/"
        },
        "id": "Ald9NIZeCTc9",
        "outputId": "f5bbee35-3cb5-4ee1-8d35-5ba8c811074f"
      },
      "execution_count": 4,
      "outputs": [
        {
          "output_type": "stream",
          "name": "stdout",
          "text": [
            "Epoch [1/100], Training Loss: 1.4255, Validation Loss: 1.5081, Validation Accuracy: 46.30%\n",
            "Epoch [2/100], Training Loss: 1.1103, Validation Loss: 1.3609, Validation Accuracy: 50.36%\n",
            "Epoch [3/100], Training Loss: 1.3890, Validation Loss: 1.2604, Validation Accuracy: 56.07%\n",
            "Epoch [4/100], Training Loss: 1.1615, Validation Loss: 1.1329, Validation Accuracy: 59.58%\n",
            "Epoch [5/100], Training Loss: 1.1268, Validation Loss: 1.1018, Validation Accuracy: 60.71%\n",
            "Epoch [6/100], Training Loss: 1.0255, Validation Loss: 1.0444, Validation Accuracy: 63.43%\n",
            "Epoch [7/100], Training Loss: 1.1236, Validation Loss: 1.0235, Validation Accuracy: 63.69%\n",
            "Epoch [8/100], Training Loss: 1.2145, Validation Loss: 0.9867, Validation Accuracy: 65.33%\n",
            "Epoch [9/100], Training Loss: 0.7765, Validation Loss: 0.9491, Validation Accuracy: 66.63%\n",
            "Epoch [10/100], Training Loss: 0.8913, Validation Loss: 0.9821, Validation Accuracy: 66.39%\n",
            "Epoch [11/100], Training Loss: 0.9136, Validation Loss: 0.9036, Validation Accuracy: 68.53%\n",
            "Epoch [12/100], Training Loss: 0.8247, Validation Loss: 0.9042, Validation Accuracy: 68.99%\n",
            "Epoch [13/100], Training Loss: 0.8131, Validation Loss: 0.8914, Validation Accuracy: 68.76%\n",
            "Epoch [14/100], Training Loss: 1.1284, Validation Loss: 0.8616, Validation Accuracy: 69.46%\n",
            "Epoch [15/100], Training Loss: 0.9304, Validation Loss: 0.8538, Validation Accuracy: 70.30%\n",
            "Epoch [16/100], Training Loss: 0.8868, Validation Loss: 0.8270, Validation Accuracy: 71.65%\n",
            "Epoch [17/100], Training Loss: 1.1020, Validation Loss: 0.8887, Validation Accuracy: 69.19%\n",
            "Epoch [18/100], Training Loss: 0.6178, Validation Loss: 0.7948, Validation Accuracy: 72.65%\n",
            "Epoch [19/100], Training Loss: 0.8893, Validation Loss: 0.8029, Validation Accuracy: 72.32%\n",
            "Epoch [20/100], Training Loss: 0.4309, Validation Loss: 0.8049, Validation Accuracy: 72.13%\n",
            "Epoch [21/100], Training Loss: 0.4506, Validation Loss: 0.7927, Validation Accuracy: 73.10%\n",
            "Epoch [22/100], Training Loss: 0.5454, Validation Loss: 0.7474, Validation Accuracy: 74.70%\n",
            "Epoch [23/100], Training Loss: 0.4971, Validation Loss: 0.7741, Validation Accuracy: 73.90%\n",
            "Epoch [24/100], Training Loss: 0.4467, Validation Loss: 0.7455, Validation Accuracy: 74.44%\n",
            "Epoch [25/100], Training Loss: 0.3329, Validation Loss: 0.7395, Validation Accuracy: 74.61%\n",
            "Epoch [26/100], Training Loss: 0.4871, Validation Loss: 0.7397, Validation Accuracy: 75.01%\n",
            "Epoch [27/100], Training Loss: 0.4192, Validation Loss: 0.7419, Validation Accuracy: 74.33%\n",
            "Epoch [28/100], Training Loss: 0.5827, Validation Loss: 0.7458, Validation Accuracy: 74.77%\n",
            "Epoch [29/100], Training Loss: 0.8143, Validation Loss: 0.7516, Validation Accuracy: 74.46%\n",
            "Epoch [30/100], Training Loss: 0.5340, Validation Loss: 0.7208, Validation Accuracy: 75.64%\n",
            "Epoch [31/100], Training Loss: 0.5065, Validation Loss: 0.7248, Validation Accuracy: 75.34%\n",
            "Epoch [32/100], Training Loss: 0.2000, Validation Loss: 0.6995, Validation Accuracy: 76.36%\n",
            "Epoch [33/100], Training Loss: 0.4287, Validation Loss: 0.6842, Validation Accuracy: 76.91%\n",
            "Epoch [34/100], Training Loss: 0.6366, Validation Loss: 0.6676, Validation Accuracy: 77.42%\n",
            "Epoch [35/100], Training Loss: 0.6005, Validation Loss: 0.6880, Validation Accuracy: 76.31%\n",
            "Epoch [36/100], Training Loss: 0.3900, Validation Loss: 0.7010, Validation Accuracy: 76.29%\n",
            "Epoch [37/100], Training Loss: 0.5537, Validation Loss: 0.7122, Validation Accuracy: 75.96%\n",
            "Epoch [38/100], Training Loss: 0.7774, Validation Loss: 0.6621, Validation Accuracy: 77.32%\n",
            "Epoch [39/100], Training Loss: 0.5568, Validation Loss: 0.6448, Validation Accuracy: 78.26%\n",
            "Epoch [40/100], Training Loss: 0.3507, Validation Loss: 0.6344, Validation Accuracy: 78.10%\n",
            "Epoch [41/100], Training Loss: 0.6381, Validation Loss: 0.6422, Validation Accuracy: 78.09%\n",
            "Epoch [42/100], Training Loss: 0.3651, Validation Loss: 0.6536, Validation Accuracy: 77.87%\n",
            "Epoch [43/100], Training Loss: 0.6543, Validation Loss: 0.6517, Validation Accuracy: 77.51%\n",
            "Epoch [44/100], Training Loss: 0.7921, Validation Loss: 0.6597, Validation Accuracy: 77.34%\n",
            "Epoch [45/100], Training Loss: 0.3232, Validation Loss: 0.6367, Validation Accuracy: 78.35%\n",
            "Epoch [46/100], Training Loss: 0.7883, Validation Loss: 0.6251, Validation Accuracy: 78.56%\n",
            "Epoch [47/100], Training Loss: 0.5820, Validation Loss: 0.6787, Validation Accuracy: 77.42%\n",
            "Epoch [48/100], Training Loss: 0.6265, Validation Loss: 0.6318, Validation Accuracy: 78.56%\n",
            "Epoch [49/100], Training Loss: 0.3556, Validation Loss: 0.6725, Validation Accuracy: 77.04%\n",
            "Epoch [50/100], Training Loss: 0.7311, Validation Loss: 0.6649, Validation Accuracy: 77.35%\n",
            "Epoch [51/100], Training Loss: 0.2502, Validation Loss: 0.6409, Validation Accuracy: 78.60%\n",
            "Epoch [52/100], Training Loss: 0.5302, Validation Loss: 0.6258, Validation Accuracy: 78.89%\n",
            "Epoch [53/100], Training Loss: 0.2158, Validation Loss: 0.6279, Validation Accuracy: 78.48%\n",
            "Epoch [54/100], Training Loss: 0.3610, Validation Loss: 0.6000, Validation Accuracy: 79.69%\n",
            "Epoch [55/100], Training Loss: 0.2333, Validation Loss: 0.5979, Validation Accuracy: 79.71%\n",
            "Epoch [56/100], Training Loss: 0.2279, Validation Loss: 0.6168, Validation Accuracy: 79.16%\n",
            "Epoch [57/100], Training Loss: 0.2977, Validation Loss: 0.6084, Validation Accuracy: 79.63%\n",
            "Epoch [58/100], Training Loss: 0.2126, Validation Loss: 0.6009, Validation Accuracy: 79.37%\n",
            "Epoch [59/100], Training Loss: 0.4483, Validation Loss: 0.6368, Validation Accuracy: 78.71%\n",
            "Epoch [60/100], Training Loss: 0.2583, Validation Loss: 0.6197, Validation Accuracy: 79.31%\n",
            "Epoch [61/100], Training Loss: 0.3118, Validation Loss: 0.5844, Validation Accuracy: 80.49%\n",
            "Epoch [62/100], Training Loss: 0.5854, Validation Loss: 0.5956, Validation Accuracy: 80.18%\n",
            "Epoch [63/100], Training Loss: 0.3101, Validation Loss: 0.5932, Validation Accuracy: 79.95%\n",
            "Epoch [64/100], Training Loss: 0.3033, Validation Loss: 0.6141, Validation Accuracy: 79.63%\n",
            "Epoch [65/100], Training Loss: 0.4085, Validation Loss: 0.6208, Validation Accuracy: 79.78%\n",
            "Epoch [66/100], Training Loss: 0.1947, Validation Loss: 0.5771, Validation Accuracy: 80.53%\n",
            "Epoch [67/100], Training Loss: 0.4297, Validation Loss: 0.5863, Validation Accuracy: 80.54%\n",
            "Epoch [68/100], Training Loss: 0.1960, Validation Loss: 0.5767, Validation Accuracy: 80.43%\n",
            "Epoch [69/100], Training Loss: 0.5387, Validation Loss: 0.5778, Validation Accuracy: 80.61%\n",
            "Epoch [70/100], Training Loss: 0.5547, Validation Loss: 0.5794, Validation Accuracy: 80.89%\n",
            "Epoch [71/100], Training Loss: 0.2078, Validation Loss: 0.5648, Validation Accuracy: 81.29%\n",
            "Epoch [72/100], Training Loss: 0.1681, Validation Loss: 0.5816, Validation Accuracy: 80.42%\n",
            "Epoch [73/100], Training Loss: 0.2472, Validation Loss: 0.5770, Validation Accuracy: 80.38%\n",
            "Epoch [74/100], Training Loss: 0.2027, Validation Loss: 0.5796, Validation Accuracy: 80.78%\n",
            "Epoch [75/100], Training Loss: 0.1717, Validation Loss: 0.5794, Validation Accuracy: 80.57%\n",
            "Epoch [76/100], Training Loss: 0.2877, Validation Loss: 0.5522, Validation Accuracy: 81.49%\n",
            "Epoch [77/100], Training Loss: 0.2426, Validation Loss: 0.5502, Validation Accuracy: 81.50%\n",
            "Epoch [78/100], Training Loss: 0.1248, Validation Loss: 0.5611, Validation Accuracy: 81.04%\n",
            "Epoch [79/100], Training Loss: 0.2326, Validation Loss: 0.5496, Validation Accuracy: 81.73%\n",
            "Epoch [80/100], Training Loss: 0.2304, Validation Loss: 0.5544, Validation Accuracy: 81.53%\n",
            "Epoch [81/100], Training Loss: 0.5368, Validation Loss: 0.5605, Validation Accuracy: 81.52%\n",
            "Epoch [82/100], Training Loss: 0.1340, Validation Loss: 0.5686, Validation Accuracy: 80.56%\n",
            "Epoch [83/100], Training Loss: 0.2821, Validation Loss: 0.5645, Validation Accuracy: 81.25%\n",
            "Epoch [84/100], Training Loss: 0.5581, Validation Loss: 0.5558, Validation Accuracy: 81.27%\n",
            "Epoch [85/100], Training Loss: 0.4291, Validation Loss: 0.5288, Validation Accuracy: 81.87%\n",
            "Epoch [86/100], Training Loss: 0.2038, Validation Loss: 0.5604, Validation Accuracy: 81.03%\n",
            "Epoch [87/100], Training Loss: 0.3309, Validation Loss: 0.5232, Validation Accuracy: 82.42%\n",
            "Epoch [88/100], Training Loss: 0.2219, Validation Loss: 0.5492, Validation Accuracy: 81.44%\n",
            "Epoch [89/100], Training Loss: 0.2334, Validation Loss: 0.5364, Validation Accuracy: 81.98%\n",
            "Epoch [90/100], Training Loss: 0.1982, Validation Loss: 0.5386, Validation Accuracy: 81.98%\n",
            "Epoch [91/100], Training Loss: 0.1338, Validation Loss: 0.5316, Validation Accuracy: 82.57%\n",
            "Epoch [92/100], Training Loss: 0.1396, Validation Loss: 0.5303, Validation Accuracy: 82.18%\n",
            "Epoch [93/100], Training Loss: 0.2749, Validation Loss: 0.5411, Validation Accuracy: 81.75%\n",
            "Epoch [94/100], Training Loss: 0.6426, Validation Loss: 0.5552, Validation Accuracy: 81.73%\n",
            "Epoch [95/100], Training Loss: 0.1713, Validation Loss: 0.5562, Validation Accuracy: 81.39%\n",
            "Epoch [96/100], Training Loss: 0.2250, Validation Loss: 0.5216, Validation Accuracy: 82.97%\n",
            "Epoch [97/100], Training Loss: 0.3278, Validation Loss: 0.5543, Validation Accuracy: 81.79%\n",
            "Epoch [98/100], Training Loss: 0.1938, Validation Loss: 0.5181, Validation Accuracy: 82.75%\n",
            "Epoch [99/100], Training Loss: 0.2257, Validation Loss: 0.5213, Validation Accuracy: 82.68%\n",
            "Epoch [100/100], Training Loss: 0.3947, Validation Loss: 0.5378, Validation Accuracy: 81.93%\n"
          ]
        }
      ]
    }
  ]
}