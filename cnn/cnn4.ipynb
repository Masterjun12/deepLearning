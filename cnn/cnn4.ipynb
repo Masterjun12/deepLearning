{
  "nbformat": 4,
  "nbformat_minor": 0,
  "metadata": {
    "colab": {
      "provenance": [],
      "authorship_tag": "ABX9TyP02fdwzJVLwQohsBA++vZZ",
      "include_colab_link": true
    },
    "kernelspec": {
      "name": "python3",
      "display_name": "Python 3"
    },
    "language_info": {
      "name": "python"
    }
  },
  "cells": [
    {
      "cell_type": "markdown",
      "metadata": {
        "id": "view-in-github",
        "colab_type": "text"
      },
      "source": [
        "<a href=\"https://colab.research.google.com/github/NoCodeProgram/deepLearning/blob/main/cnn/cnn4.ipynb\" target=\"_parent\"><img src=\"https://colab.research.google.com/assets/colab-badge.svg\" alt=\"Open In Colab\"/></a>"
      ]
    },
    {
      "cell_type": "code",
      "execution_count": 2,
      "metadata": {
        "colab": {
          "base_uri": "https://localhost:8080/"
        },
        "id": "BAqg3ltP0k_J",
        "outputId": "1a84875d-147f-4549-842c-c7a09d53f4c8"
      },
      "outputs": [
        {
          "output_type": "stream",
          "name": "stdout",
          "text": [
            "torch.Size([1, 1, 112, 112])\n"
          ]
        }
      ],
      "source": [
        "import torch\n",
        "import torch.nn as nn\n",
        "\n",
        "# Define an input tensor with shape [3, 224, 224]\n",
        "input_tensor = torch.randn(1, 1, 224, 224)\n",
        "kernel_size = 2\n",
        "pool_layer = nn.MaxPool2d(kernel_size=kernel_size)\n",
        "output_tensor = pool_layer(input_tensor)\n",
        "print(output_tensor.shape)"
      ]
    },
    {
      "cell_type": "code",
      "source": [
        "input_tensor = torch.randn(1, 3, 224, 224)\n",
        "kernel_size = 5\n",
        "padding = 2\n",
        "conv_layer = nn.Conv2d(in_channels=3, out_channels=16, kernel_size=kernel_size, padding=padding)\n",
        "output_tensor = conv_layer(input_tensor)\n",
        "print(output_tensor.shape)"
      ],
      "metadata": {
        "colab": {
          "base_uri": "https://localhost:8080/"
        },
        "id": "tW69owUAe77c",
        "outputId": "a1887510-acd2-4e8a-b79b-034e85eb7e4f"
      },
      "execution_count": 3,
      "outputs": [
        {
          "output_type": "stream",
          "name": "stdout",
          "text": [
            "torch.Size([1, 16, 224, 224])\n"
          ]
        }
      ]
    },
    {
      "cell_type": "code",
      "source": [
        "input_tensor = torch.randn(1, 3, 224, 224)\n",
        "kernel_size = 2\n",
        "stride = 2\n",
        "conv_layer = nn.Conv2d(in_channels=3, out_channels=16, kernel_size=kernel_size, stride=stride)\n",
        "output_tensor = conv_layer(input_tensor)\n",
        "print(output_tensor.shape)"
      ],
      "metadata": {
        "colab": {
          "base_uri": "https://localhost:8080/"
        },
        "id": "36pVqqsse9yH",
        "outputId": "a4456851-74e2-49fd-fa3a-75522c80a0c2"
      },
      "execution_count": 4,
      "outputs": [
        {
          "output_type": "stream",
          "name": "stdout",
          "text": [
            "torch.Size([1, 16, 112, 112])\n"
          ]
        }
      ]
    },
    {
      "cell_type": "code",
      "source": [
        "input_tensor = torch.randn(1, 3, 224, 224)\n",
        "kernel_size = 2\n",
        "dilation = 2\n",
        "conv_layer = nn.Conv2d(in_channels=3, out_channels=16, kernel_size=kernel_size, dilation=dilation)\n",
        "output_tensor = conv_layer(input_tensor)\n",
        "print(output_tensor.shape)"
      ],
      "metadata": {
        "colab": {
          "base_uri": "https://localhost:8080/"
        },
        "id": "P-Fnw8M-e_MU",
        "outputId": "a2c793f3-cdbd-4236-9fba-87875a37796d"
      },
      "execution_count": 5,
      "outputs": [
        {
          "output_type": "stream",
          "name": "stdout",
          "text": [
            "torch.Size([1, 16, 222, 222])\n"
          ]
        }
      ]
    }
  ]
}