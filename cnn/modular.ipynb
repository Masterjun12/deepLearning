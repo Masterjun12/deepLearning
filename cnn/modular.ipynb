{
  "nbformat": 4,
  "nbformat_minor": 0,
  "metadata": {
    "colab": {
      "provenance": [],
      "gpuType": "T4",
      "authorship_tag": "ABX9TyNj4vqln2BFDfXUMeGZ3hW2",
      "include_colab_link": true
    },
    "kernelspec": {
      "name": "python3",
      "display_name": "Python 3"
    },
    "language_info": {
      "name": "python"
    },
    "accelerator": "GPU"
  },
  "cells": [
    {
      "cell_type": "markdown",
      "metadata": {
        "id": "view-in-github",
        "colab_type": "text"
      },
      "source": [
        "<a href=\"https://colab.research.google.com/github/NoCodeProgram/deepLearning/blob/main/cnn/modular.ipynb\" target=\"_parent\"><img src=\"https://colab.research.google.com/assets/colab-badge.svg\" alt=\"Open In Colab\"/></a>"
      ]
    },
    {
      "cell_type": "code",
      "execution_count": 1,
      "metadata": {
        "colab": {
          "base_uri": "https://localhost:8080/"
        },
        "id": "AUwzqT1ejWRp",
        "outputId": "ca6e7cbc-3d05-4bd3-b270-a3d1b27f25be"
      },
      "outputs": [
        {
          "output_type": "stream",
          "name": "stdout",
          "text": [
            "cuda\n"
          ]
        }
      ],
      "source": [
        "import torch\n",
        "import torchvision\n",
        "import matplotlib.pyplot as plt\n",
        "\n",
        "if torch.backends.mps.is_available():\n",
        "    my_device = torch.device('mps')\n",
        "elif torch.cuda.is_available():\n",
        "    my_device = torch.device('cuda')\n",
        "else:\n",
        "    my_device = torch.device('cpu')\n",
        "\n",
        "print(my_device)"
      ]
    },
    {
      "cell_type": "code",
      "source": [
        "import torch\n",
        "import torch.nn as nn\n",
        "import torch.optim as optim\n",
        "import torchvision\n",
        "import torchvision.transforms as transforms\n",
        "\n",
        "# Load CIFAR10 dataset\n",
        "transform = transforms.Compose([\n",
        "    transforms.ToTensor(),\n",
        "    transforms.Normalize((0.5, 0.5, 0.5), (0.5, 0.5, 0.5))\n",
        "])\n",
        "\n",
        "trainset = torchvision.datasets.CIFAR10(root='./data', train=True, download=True, transform=transform)\n",
        "trainloader = torch.utils.data.DataLoader(trainset, batch_size=8, shuffle=True, num_workers=4)\n",
        "\n",
        "testset = torchvision.datasets.CIFAR10(root='./data', train=False, download=True, transform=transform)\n",
        "testloader = torch.utils.data.DataLoader(testset, batch_size=8, shuffle=False, num_workers=4)\n"
      ],
      "metadata": {
        "colab": {
          "base_uri": "https://localhost:8080/"
        },
        "id": "PdAe_Sg9jYzA",
        "outputId": "7b3dab2a-671f-46a4-de27-be6a6e53cddd"
      },
      "execution_count": 2,
      "outputs": [
        {
          "output_type": "stream",
          "name": "stdout",
          "text": [
            "Downloading https://www.cs.toronto.edu/~kriz/cifar-10-python.tar.gz to ./data/cifar-10-python.tar.gz\n"
          ]
        },
        {
          "output_type": "stream",
          "name": "stderr",
          "text": [
            "100%|██████████| 170498071/170498071 [00:13<00:00, 12340887.95it/s]\n"
          ]
        },
        {
          "output_type": "stream",
          "name": "stdout",
          "text": [
            "Extracting ./data/cifar-10-python.tar.gz to ./data\n"
          ]
        },
        {
          "output_type": "stream",
          "name": "stderr",
          "text": [
            "/usr/local/lib/python3.10/dist-packages/torch/utils/data/dataloader.py:560: UserWarning: This DataLoader will create 4 worker processes in total. Our suggested max number of worker in current system is 2, which is smaller than what this DataLoader is going to create. Please be aware that excessive worker creation might get DataLoader running slow or even freeze, lower the worker number to avoid potential slowness/freeze if necessary.\n",
            "  warnings.warn(_create_warning_msg(\n"
          ]
        },
        {
          "output_type": "stream",
          "name": "stdout",
          "text": [
            "Files already downloaded and verified\n"
          ]
        }
      ]
    },
    {
      "cell_type": "code",
      "source": [
        "\n",
        "class DoubleConvBlock(nn.Module):\n",
        "    def __init__(self, in_channels, out_channels, stride=1):\n",
        "        super().__init__()\n",
        "        self.block = nn.Sequential(\n",
        "            nn.Conv2d(in_channels, out_channels, kernel_size=3, stride=stride, padding=1, bias=False),\n",
        "            nn.BatchNorm2d(out_channels),\n",
        "            nn.ReLU(inplace=True),\n",
        "            nn.Conv2d(out_channels, out_channels, kernel_size=3, stride=1, padding=1, bias=False),\n",
        "            nn.BatchNorm2d(out_channels),\n",
        "            nn.ReLU(inplace=True),\n",
        "        )\n",
        "\n",
        "    def forward(self, x):\n",
        "        return self.block(x)\n",
        "\n",
        "class ModernGAPCNN(nn.Module):\n",
        "    def __init__(self, num_classes=10):\n",
        "        super().__init__()\n",
        "\n",
        "        self.features = nn.Sequential(\n",
        "            DoubleConvBlock(3, 64),\n",
        "            DoubleConvBlock(64, 128, stride=2),\n",
        "            DoubleConvBlock(128, 256, stride=2),\n",
        "        )\n",
        "\n",
        "        self.global_avg_pool = nn.AdaptiveAvgPool2d(1)\n",
        "        self.classifier = nn.Linear(256, num_classes)\n",
        "\n",
        "    def forward(self, x):\n",
        "        x = self.features(x)\n",
        "        x = self.global_avg_pool(x)\n",
        "        x = torch.flatten(x, 1)\n",
        "        x = self.classifier(x)\n",
        "        return x\n",
        "\n",
        "# Instantiate the network\n",
        "net = ModernGAPCNN(num_classes=10)\n",
        "\n",
        "\n",
        "\n",
        "# Loss function and optimizer\n",
        "criterion = nn.CrossEntropyLoss()\n",
        "optimizer = optim.Adam(net.parameters(), lr=0.0001)\n"
      ],
      "metadata": {
        "id": "xIUehcPAjc2V"
      },
      "execution_count": 3,
      "outputs": []
    },
    {
      "cell_type": "code",
      "source": [
        "net.to(my_device)\n",
        "num_epochs = 100\n",
        "for epoch in range(num_epochs):\n",
        "    net.train()\n",
        "    for batch_idx, (data, label) in enumerate(trainloader):\n",
        "        data, label = data.to(my_device), label.to(my_device)\n",
        "        scores = net(data)\n",
        "        loss = criterion(scores, label)\n",
        "\n",
        "        optimizer.zero_grad()\n",
        "        loss.backward()\n",
        "        optimizer.step()\n",
        "\n",
        "    net.eval()\n",
        "\n",
        "    with torch.no_grad():\n",
        "        val_loss = 0.0\n",
        "        correct = 0\n",
        "        for data, label in testloader:\n",
        "            data, label = data.to(my_device), label.to(my_device)\n",
        "            scores = net(data)\n",
        "            loss = criterion(scores, label)\n",
        "            val_loss += loss.item() * data.size(0)\n",
        "\n",
        "            predicted = scores.argmax(dim=1)\n",
        "            correct += predicted.eq(label).sum().item()\n",
        "\n",
        "        val_loss /= len(testloader.dataset)\n",
        "        val_accuracy = 100. * correct / len(testloader.dataset)\n",
        "\n",
        "    print(f\"Epoch [{epoch + 1}/{num_epochs}], Training Loss: {loss.item():.4f}, Validation Loss: {val_loss:.4f}, Validation Accuracy: {val_accuracy:.2f}%\")\n"
      ],
      "metadata": {
        "colab": {
          "base_uri": "https://localhost:8080/"
        },
        "id": "_lqu8n34jfO-",
        "outputId": "17ad0f56-09f9-433b-d3b7-a7702a84927c"
      },
      "execution_count": null,
      "outputs": [
        {
          "output_type": "stream",
          "name": "stdout",
          "text": [
            "Epoch [1/100], Training Loss: 0.9581, Validation Loss: 1.0024, Validation Accuracy: 64.01%\n",
            "Epoch [2/100], Training Loss: 0.7534, Validation Loss: 0.8298, Validation Accuracy: 71.15%\n",
            "Epoch [3/100], Training Loss: 0.5032, Validation Loss: 0.6752, Validation Accuracy: 76.82%\n",
            "Epoch [4/100], Training Loss: 0.2928, Validation Loss: 0.6610, Validation Accuracy: 77.19%\n",
            "Epoch [5/100], Training Loss: 0.9183, Validation Loss: 0.6195, Validation Accuracy: 78.93%\n",
            "Epoch [6/100], Training Loss: 0.5629, Validation Loss: 0.5699, Validation Accuracy: 80.18%\n",
            "Epoch [7/100], Training Loss: 0.2366, Validation Loss: 0.5332, Validation Accuracy: 81.81%\n",
            "Epoch [8/100], Training Loss: 0.5721, Validation Loss: 0.5479, Validation Accuracy: 81.59%\n",
            "Epoch [9/100], Training Loss: 0.7217, Validation Loss: 0.5546, Validation Accuracy: 81.57%\n",
            "Epoch [10/100], Training Loss: 0.5403, Validation Loss: 0.5593, Validation Accuracy: 81.57%\n",
            "Epoch [11/100], Training Loss: 0.5238, Validation Loss: 0.5589, Validation Accuracy: 81.51%\n",
            "Epoch [12/100], Training Loss: 0.9534, Validation Loss: 0.5558, Validation Accuracy: 82.27%\n",
            "Epoch [13/100], Training Loss: 1.0240, Validation Loss: 0.6757, Validation Accuracy: 79.07%\n",
            "Epoch [14/100], Training Loss: 0.5558, Validation Loss: 0.5859, Validation Accuracy: 82.07%\n",
            "Epoch [15/100], Training Loss: 0.5085, Validation Loss: 0.5655, Validation Accuracy: 82.89%\n",
            "Epoch [16/100], Training Loss: 0.9916, Validation Loss: 0.5717, Validation Accuracy: 82.39%\n",
            "Epoch [17/100], Training Loss: 0.4730, Validation Loss: 0.6122, Validation Accuracy: 82.06%\n",
            "Epoch [18/100], Training Loss: 1.1241, Validation Loss: 0.6216, Validation Accuracy: 82.18%\n",
            "Epoch [19/100], Training Loss: 0.2373, Validation Loss: 0.6551, Validation Accuracy: 81.56%\n",
            "Epoch [20/100], Training Loss: 1.0183, Validation Loss: 0.6394, Validation Accuracy: 81.78%\n",
            "Epoch [21/100], Training Loss: 0.5129, Validation Loss: 0.6301, Validation Accuracy: 82.27%\n",
            "Epoch [22/100], Training Loss: 0.9649, Validation Loss: 0.6593, Validation Accuracy: 81.29%\n",
            "Epoch [23/100], Training Loss: 1.1767, Validation Loss: 0.6545, Validation Accuracy: 82.26%\n",
            "Epoch [24/100], Training Loss: 0.9973, Validation Loss: 0.6943, Validation Accuracy: 81.91%\n",
            "Epoch [25/100], Training Loss: 1.8069, Validation Loss: 0.7511, Validation Accuracy: 81.36%\n",
            "Epoch [26/100], Training Loss: 2.2168, Validation Loss: 0.7795, Validation Accuracy: 80.48%\n",
            "Epoch [27/100], Training Loss: 1.1289, Validation Loss: 0.6811, Validation Accuracy: 82.17%\n",
            "Epoch [28/100], Training Loss: 1.1875, Validation Loss: 0.7601, Validation Accuracy: 80.96%\n",
            "Epoch [29/100], Training Loss: 0.6135, Validation Loss: 0.7039, Validation Accuracy: 81.27%\n",
            "Epoch [30/100], Training Loss: 0.1364, Validation Loss: 0.7080, Validation Accuracy: 82.24%\n",
            "Epoch [31/100], Training Loss: 0.5446, Validation Loss: 0.7137, Validation Accuracy: 81.89%\n",
            "Epoch [32/100], Training Loss: 0.3484, Validation Loss: 0.7412, Validation Accuracy: 81.96%\n",
            "Epoch [33/100], Training Loss: 0.5827, Validation Loss: 0.7550, Validation Accuracy: 81.32%\n",
            "Epoch [34/100], Training Loss: 0.9549, Validation Loss: 0.7218, Validation Accuracy: 81.76%\n",
            "Epoch [35/100], Training Loss: 0.8233, Validation Loss: 0.7127, Validation Accuracy: 82.16%\n",
            "Epoch [36/100], Training Loss: 1.1508, Validation Loss: 0.7450, Validation Accuracy: 81.64%\n",
            "Epoch [37/100], Training Loss: 0.3545, Validation Loss: 0.7036, Validation Accuracy: 82.47%\n",
            "Epoch [38/100], Training Loss: 0.3715, Validation Loss: 0.7371, Validation Accuracy: 82.37%\n",
            "Epoch [39/100], Training Loss: 1.0688, Validation Loss: 0.7547, Validation Accuracy: 81.53%\n",
            "Epoch [40/100], Training Loss: 0.6403, Validation Loss: 0.7696, Validation Accuracy: 81.69%\n",
            "Epoch [41/100], Training Loss: 0.4652, Validation Loss: 0.7878, Validation Accuracy: 81.75%\n",
            "Epoch [42/100], Training Loss: 0.4564, Validation Loss: 0.7629, Validation Accuracy: 82.17%\n",
            "Epoch [43/100], Training Loss: 0.8909, Validation Loss: 0.8271, Validation Accuracy: 80.84%\n",
            "Epoch [44/100], Training Loss: 1.0294, Validation Loss: 0.7980, Validation Accuracy: 81.40%\n",
            "Epoch [45/100], Training Loss: 1.9589, Validation Loss: 0.7967, Validation Accuracy: 81.15%\n",
            "Epoch [46/100], Training Loss: 1.8397, Validation Loss: 0.8496, Validation Accuracy: 80.54%\n",
            "Epoch [47/100], Training Loss: 0.6188, Validation Loss: 0.7655, Validation Accuracy: 81.54%\n",
            "Epoch [48/100], Training Loss: 0.4908, Validation Loss: 0.8258, Validation Accuracy: 80.99%\n",
            "Epoch [49/100], Training Loss: 0.9316, Validation Loss: 0.7431, Validation Accuracy: 82.14%\n",
            "Epoch [50/100], Training Loss: 1.5242, Validation Loss: 0.8476, Validation Accuracy: 81.43%\n",
            "Epoch [51/100], Training Loss: 1.3359, Validation Loss: 0.7939, Validation Accuracy: 81.69%\n",
            "Epoch [52/100], Training Loss: 1.7363, Validation Loss: 0.8179, Validation Accuracy: 81.82%\n",
            "Epoch [53/100], Training Loss: 2.0238, Validation Loss: 0.7906, Validation Accuracy: 81.98%\n",
            "Epoch [54/100], Training Loss: 1.4404, Validation Loss: 0.8255, Validation Accuracy: 81.76%\n",
            "Epoch [55/100], Training Loss: 1.4071, Validation Loss: 0.8058, Validation Accuracy: 81.71%\n",
            "Epoch [56/100], Training Loss: 1.4461, Validation Loss: 0.8004, Validation Accuracy: 82.15%\n",
            "Epoch [57/100], Training Loss: 1.2321, Validation Loss: 0.7861, Validation Accuracy: 82.23%\n",
            "Epoch [58/100], Training Loss: 0.9555, Validation Loss: 0.7994, Validation Accuracy: 82.70%\n",
            "Epoch [59/100], Training Loss: 0.7187, Validation Loss: 0.7844, Validation Accuracy: 82.24%\n",
            "Epoch [60/100], Training Loss: 2.0786, Validation Loss: 0.8510, Validation Accuracy: 81.66%\n",
            "Epoch [61/100], Training Loss: 1.9397, Validation Loss: 0.8298, Validation Accuracy: 81.96%\n",
            "Epoch [62/100], Training Loss: 1.6273, Validation Loss: 0.8667, Validation Accuracy: 81.29%\n",
            "Epoch [63/100], Training Loss: 1.6603, Validation Loss: 0.8173, Validation Accuracy: 81.38%\n",
            "Epoch [64/100], Training Loss: 1.5290, Validation Loss: 0.7921, Validation Accuracy: 82.10%\n",
            "Epoch [65/100], Training Loss: 1.0309, Validation Loss: 0.8569, Validation Accuracy: 81.76%\n",
            "Epoch [66/100], Training Loss: 0.8714, Validation Loss: 0.8203, Validation Accuracy: 81.66%\n",
            "Epoch [67/100], Training Loss: 1.5217, Validation Loss: 0.9418, Validation Accuracy: 80.70%\n",
            "Epoch [68/100], Training Loss: 1.0777, Validation Loss: 0.8395, Validation Accuracy: 81.74%\n",
            "Epoch [69/100], Training Loss: 1.5437, Validation Loss: 0.8338, Validation Accuracy: 82.42%\n",
            "Epoch [70/100], Training Loss: 2.0063, Validation Loss: 0.8506, Validation Accuracy: 82.09%\n",
            "Epoch [71/100], Training Loss: 1.6358, Validation Loss: 0.8647, Validation Accuracy: 81.47%\n",
            "Epoch [72/100], Training Loss: 1.7698, Validation Loss: 0.8450, Validation Accuracy: 82.25%\n",
            "Epoch [73/100], Training Loss: 1.8575, Validation Loss: 0.8222, Validation Accuracy: 82.14%\n",
            "Epoch [74/100], Training Loss: 1.2722, Validation Loss: 0.8585, Validation Accuracy: 81.89%\n"
          ]
        }
      ]
    }
  ]
}