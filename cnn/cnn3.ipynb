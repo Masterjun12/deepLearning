{
  "nbformat": 4,
  "nbformat_minor": 0,
  "metadata": {
    "colab": {
      "provenance": [],
      "authorship_tag": "ABX9TyMVQTlGtgCkTxqSWF5LKT5D",
      "include_colab_link": true
    },
    "kernelspec": {
      "name": "python3",
      "display_name": "Python 3"
    },
    "language_info": {
      "name": "python"
    }
  },
  "cells": [
    {
      "cell_type": "markdown",
      "metadata": {
        "id": "view-in-github",
        "colab_type": "text"
      },
      "source": [
        "<a href=\"https://colab.research.google.com/github/NoCodeProgram/deepLearning/blob/main/cnn/cnn3.ipynb\" target=\"_parent\"><img src=\"https://colab.research.google.com/assets/colab-badge.svg\" alt=\"Open In Colab\"/></a>"
      ]
    },
    {
      "cell_type": "code",
      "execution_count": 1,
      "metadata": {
        "colab": {
          "base_uri": "https://localhost:8080/"
        },
        "id": "FgTGQFrFxV6u",
        "outputId": "57176db2-b53a-4fc6-845c-47ea73b9826d"
      },
      "outputs": [
        {
          "output_type": "stream",
          "name": "stdout",
          "text": [
            "torch.Size([1, 16, 220, 220])\n"
          ]
        }
      ],
      "source": [
        "import torch\n",
        "import torch.nn as nn\n",
        "\n",
        "# Define an input tensor with shape [3, 224, 224]\n",
        "input_tensor = torch.randn(1, 3, 224, 224)\n",
        "kernel_size = 5\n",
        "conv_layer = nn.Conv2d(in_channels=3, out_channels=16, kernel_size=kernel_size)\n",
        "output_tensor = conv_layer(input_tensor)\n",
        "print(output_tensor.shape)"
      ]
    },
    {
      "cell_type": "code",
      "source": [
        "input_tensor = torch.randn(1, 3, 224, 224)\n",
        "kernel_size = 5\n",
        "padding = 2\n",
        "conv_layer = nn.Conv2d(in_channels=3, out_channels=16, kernel_size=kernel_size, padding=padding)\n",
        "output_tensor = conv_layer(input_tensor)\n",
        "print(output_tensor.shape)"
      ],
      "metadata": {
        "colab": {
          "base_uri": "https://localhost:8080/"
        },
        "id": "cpIyeqQqxbkF",
        "outputId": "051e3402-fc26-4c86-b9d1-ce5731ad1792"
      },
      "execution_count": 2,
      "outputs": [
        {
          "output_type": "stream",
          "name": "stdout",
          "text": [
            "torch.Size([1, 16, 224, 224])\n"
          ]
        }
      ]
    },
    {
      "cell_type": "code",
      "source": [
        "input_tensor = torch.randn(1, 3, 224, 224)\n",
        "kernel_size = 2\n",
        "stride = 2\n",
        "conv_layer = nn.Conv2d(in_channels=3, out_channels=16, kernel_size=kernel_size, stride=stride)\n",
        "output_tensor = conv_layer(input_tensor)\n",
        "print(output_tensor.shape)"
      ],
      "metadata": {
        "colab": {
          "base_uri": "https://localhost:8080/"
        },
        "id": "8-pmQDrPxc70",
        "outputId": "2ab14a25-f057-42b4-9698-597a3146679e"
      },
      "execution_count": 3,
      "outputs": [
        {
          "output_type": "stream",
          "name": "stdout",
          "text": [
            "torch.Size([1, 16, 112, 112])\n"
          ]
        }
      ]
    },
    {
      "cell_type": "code",
      "source": [
        "input_tensor = torch.randn(1, 3, 224, 224)\n",
        "kernel_size = 2\n",
        "dilation = 2\n",
        "conv_layer = nn.Conv2d(in_channels=3, out_channels=16, kernel_size=kernel_size, dilation=dilation)\n",
        "output_tensor = conv_layer(input_tensor)\n",
        "print(output_tensor.shape)"
      ],
      "metadata": {
        "id": "ujKaDZCAxeKP",
        "outputId": "4fb64efb-bd05-4a79-a458-89f5d7d1fb2c",
        "colab": {
          "base_uri": "https://localhost:8080/"
        }
      },
      "execution_count": 4,
      "outputs": [
        {
          "output_type": "stream",
          "name": "stdout",
          "text": [
            "torch.Size([1, 16, 222, 222])\n"
          ]
        }
      ]
    }
  ]
}