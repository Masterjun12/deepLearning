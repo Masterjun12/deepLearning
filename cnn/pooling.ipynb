{
  "nbformat": 4,
  "nbformat_minor": 0,
  "metadata": {
    "colab": {
      "provenance": [],
      "authorship_tag": "ABX9TyNiB5FS7pG5f1pVrnXzGGFr",
      "include_colab_link": true
    },
    "kernelspec": {
      "name": "python3",
      "display_name": "Python 3"
    },
    "language_info": {
      "name": "python"
    }
  },
  "cells": [
    {
      "cell_type": "markdown",
      "metadata": {
        "id": "view-in-github",
        "colab_type": "text"
      },
      "source": [
        "<a href=\"https://colab.research.google.com/github/NoCodeProgram/deepLearning/blob/main/cnn/pooling.ipynb\" target=\"_parent\"><img src=\"https://colab.research.google.com/assets/colab-badge.svg\" alt=\"Open In Colab\"/></a>"
      ]
    },
    {
      "cell_type": "code",
      "execution_count": null,
      "metadata": {
        "colab": {
          "base_uri": "https://localhost:8080/"
        },
        "id": "BAqg3ltP0k_J",
        "outputId": "c7773693-0b9a-45d8-87dc-929e36b221eb"
      },
      "outputs": [
        {
          "output_type": "stream",
          "name": "stdout",
          "text": [
            "torch.Size([1, 1, 4, 4])\n",
            "tensor([[[[ 6.,  8.],\n",
            "          [14., 16.]]]])\n"
          ]
        }
      ],
      "source": [
        "import torch\n",
        "import torch.nn as nn\n",
        "\n",
        "input_tensor = torch.Tensor([[[[1, 2, 3, 4],\n",
        "                             [5, 6, 7, 8],\n",
        "                             [9, 10, 11, 12],\n",
        "                             [13, 14, 15, 16]]]])\n",
        "print(input_tensor.shape)\n",
        "maxpool_layer = nn.MaxPool2d(kernel_size=2)\n",
        "output_tensor = maxpool_layer(input_tensor)\n",
        "# Step 5: Print the output tensor\n",
        "print(output_tensor)\n"
      ]
    },
    {
      "cell_type": "code",
      "source": [
        "\n",
        "input_tensor = torch.Tensor([[[[1, 2, 3, 4],\n",
        "                             [5, 6, 7, 8],\n",
        "                             [9, 10, 11, 12],\n",
        "                             [13, 14, 15, 16]]]])\n",
        "avgpool_layer = nn.AvgPool2d(kernel_size=2)\n",
        "output_tensor = avgpool_layer(input_tensor)\n",
        "# Step 5: Print the output tensor\n",
        "print(output_tensor)\n"
      ],
      "metadata": {
        "colab": {
          "base_uri": "https://localhost:8080/"
        },
        "id": "tW69owUAe77c",
        "outputId": "c02d8869-d997-4989-bb9b-0653a1a8f7db"
      },
      "execution_count": null,
      "outputs": [
        {
          "output_type": "stream",
          "name": "stdout",
          "text": [
            "tensor([[[[ 3.5000,  5.5000],\n",
            "          [11.5000, 13.5000]]]])\n"
          ]
        }
      ]
    },
    {
      "cell_type": "code",
      "source": [
        "import torch\n",
        "import torchvision\n",
        "import matplotlib.pyplot as plt\n",
        "\n",
        "if torch.backends.mps.is_available():\n",
        "    my_device = torch.device('mps')\n",
        "elif torch.cuda.is_available():\n",
        "    my_device = torch.device('cuda')\n",
        "else:\n",
        "    my_device = torch.device('cpu')\n",
        "\n",
        "print(my_device)"
      ],
      "metadata": {
        "colab": {
          "base_uri": "https://localhost:8080/"
        },
        "id": "36pVqqsse9yH",
        "outputId": "08ca5a33-4ebb-4ce5-8727-c72126c697e7"
      },
      "execution_count": null,
      "outputs": [
        {
          "output_type": "stream",
          "name": "stdout",
          "text": [
            "cpu\n"
          ]
        }
      ]
    },
    {
      "cell_type": "code",
      "source": [
        "import torch\n",
        "import torch.nn as nn\n",
        "import torch.optim as optim\n",
        "import torchvision\n",
        "import torchvision.transforms as transforms\n",
        "\n",
        "# Load CIFAR10 dataset\n",
        "transform = transforms.Compose([\n",
        "    transforms.ToTensor(),\n",
        "    transforms.Normalize((0.5, 0.5, 0.5), (0.5, 0.5, 0.5))\n",
        "])\n",
        "\n",
        "trainset = torchvision.datasets.CIFAR10(root='./data', train=True, download=True, transform=transform)\n",
        "trainloader = torch.utils.data.DataLoader(trainset, batch_size=4, shuffle=True, num_workers=4)\n",
        "\n",
        "testset = torchvision.datasets.CIFAR10(root='./data', train=False, download=True, transform=transform)\n",
        "testloader = torch.utils.data.DataLoader(testset, batch_size=4, shuffle=False, num_workers=4)\n"
      ],
      "metadata": {
        "colab": {
          "base_uri": "https://localhost:8080/"
        },
        "id": "P-Fnw8M-e_MU",
        "outputId": "b437d7bb-94f2-4aa0-d29f-94f0fdee5aa1"
      },
      "execution_count": null,
      "outputs": [
        {
          "output_type": "stream",
          "name": "stdout",
          "text": [
            "Downloading https://www.cs.toronto.edu/~kriz/cifar-10-python.tar.gz to ./data/cifar-10-python.tar.gz\n"
          ]
        },
        {
          "output_type": "stream",
          "name": "stderr",
          "text": [
            "100%|██████████| 170498071/170498071 [00:03<00:00, 43750853.68it/s]\n"
          ]
        },
        {
          "output_type": "stream",
          "name": "stdout",
          "text": [
            "Extracting ./data/cifar-10-python.tar.gz to ./data\n"
          ]
        },
        {
          "output_type": "stream",
          "name": "stderr",
          "text": [
            "/usr/local/lib/python3.10/dist-packages/torch/utils/data/dataloader.py:560: UserWarning: This DataLoader will create 4 worker processes in total. Our suggested max number of worker in current system is 2, which is smaller than what this DataLoader is going to create. Please be aware that excessive worker creation might get DataLoader running slow or even freeze, lower the worker number to avoid potential slowness/freeze if necessary.\n",
            "  warnings.warn(_create_warning_msg(\n"
          ]
        },
        {
          "output_type": "stream",
          "name": "stdout",
          "text": [
            "Files already downloaded and verified\n"
          ]
        }
      ]
    },
    {
      "cell_type": "code",
      "source": [
        "\n",
        "\n",
        "class ModernGAPCNN(nn.Module):\n",
        "    def __init__(self, num_classes=10):\n",
        "        super().__init__()\n",
        "\n",
        "        self.features = nn.Sequential(\n",
        "            nn.Conv2d(3, 64, kernel_size=3, stride=1, padding=1),\n",
        "            nn.ReLU(inplace=True),\n",
        "            nn.Conv2d(64, 128, kernel_size=3, stride=2, padding=1), # Stride 2 to reduce dimensions\n",
        "            nn.ReLU(inplace=True),\n",
        "        )\n",
        "\n",
        "        self.global_avg_pool = nn.AdaptiveAvgPool2d(1)\n",
        "        self.classifier = nn.Linear(128, num_classes)\n",
        "\n",
        "    def forward(self, x):\n",
        "        x = self.features(x)\n",
        "        x = self.global_avg_pool(x)\n",
        "        x = torch.flatten(x, 1)  # Flatten the tensor before the fully connected layer\n",
        "        x = self.classifier(x)\n",
        "        return x\n",
        "\n",
        "net = ModernGAPCNN(num_classes=10)\n",
        "\n",
        "\n",
        "# Loss function and optimizer\n",
        "criterion = nn.CrossEntropyLoss()\n",
        "optimizer = optim.Adam(net.parameters(), lr=0.0001)\n"
      ],
      "metadata": {
        "id": "Z-kz-1-Z7_rL"
      },
      "execution_count": null,
      "outputs": []
    },
    {
      "cell_type": "code",
      "source": [
        "net.to(my_device)\n",
        "num_epochs = 100\n",
        "for epoch in range(num_epochs):\n",
        "    net.train()\n",
        "    for batch_idx, (data, label) in enumerate(trainloader):\n",
        "        data, label = data.to(my_device), label.to(my_device)\n",
        "        scores = net(data)\n",
        "        loss = criterion(scores, label)\n",
        "\n",
        "        optimizer.zero_grad()\n",
        "        loss.backward()\n",
        "        optimizer.step()\n",
        "\n",
        "    net.eval()\n",
        "    val_loss = 0.0\n",
        "    correct = 0\n",
        "    with torch.no_grad():\n",
        "        for data, label in testloader:\n",
        "            data, label = data.to(my_device), label.to(my_device)\n",
        "            scores = net(data)\n",
        "            loss = criterion(scores, label)\n",
        "            val_loss += loss.item() * data.size(0)\n",
        "\n",
        "            predicted = scores.argmax(dim=1)\n",
        "            correct += predicted.eq(label).sum().item()\n",
        "\n",
        "    val_loss /= len(testloader.dataset)\n",
        "    val_accuracy = 100. * correct / len(testloader.dataset)\n",
        "\n",
        "    print(f\"Epoch [{epoch + 1}/{num_epochs}], Training Loss: {loss.item():.4f}, Validation Loss: {val_loss:.4f}, Validation Accuracy: {val_accuracy:.2f}%\")\n"
      ],
      "metadata": {
        "colab": {
          "base_uri": "https://localhost:8080/"
        },
        "id": "gruWBzKD8CAO",
        "outputId": "a48d4796-edb9-4577-8020-77aabb7a17f8"
      },
      "execution_count": null,
      "outputs": [
        {
          "output_type": "stream",
          "name": "stdout",
          "text": [
            "Epoch [1/100], Training Loss: 2.0488, Validation Loss: 1.8502, Validation Accuracy: 32.76%\n",
            "Epoch [2/100], Training Loss: 1.7348, Validation Loss: 1.7183, Validation Accuracy: 37.32%\n",
            "Epoch [3/100], Training Loss: 1.5089, Validation Loss: 1.6598, Validation Accuracy: 38.62%\n",
            "Epoch [4/100], Training Loss: 1.6023, Validation Loss: 1.6354, Validation Accuracy: 39.50%\n",
            "Epoch [5/100], Training Loss: 1.3982, Validation Loss: 1.6005, Validation Accuracy: 41.29%\n",
            "Epoch [6/100], Training Loss: 1.3470, Validation Loss: 1.5722, Validation Accuracy: 42.95%\n",
            "Epoch [7/100], Training Loss: 1.4415, Validation Loss: 1.5605, Validation Accuracy: 43.35%\n",
            "Epoch [8/100], Training Loss: 1.3231, Validation Loss: 1.5241, Validation Accuracy: 44.90%\n",
            "Epoch [9/100], Training Loss: 1.2867, Validation Loss: 1.5097, Validation Accuracy: 45.55%\n",
            "Epoch [10/100], Training Loss: 1.2030, Validation Loss: 1.4861, Validation Accuracy: 46.83%\n",
            "Epoch [11/100], Training Loss: 1.3143, Validation Loss: 1.4572, Validation Accuracy: 47.75%\n",
            "Epoch [12/100], Training Loss: 1.3508, Validation Loss: 1.4535, Validation Accuracy: 47.97%\n",
            "Epoch [13/100], Training Loss: 1.2059, Validation Loss: 1.4329, Validation Accuracy: 49.59%\n",
            "Epoch [14/100], Training Loss: 1.1968, Validation Loss: 1.4031, Validation Accuracy: 49.77%\n",
            "Epoch [15/100], Training Loss: 1.1786, Validation Loss: 1.3896, Validation Accuracy: 50.60%\n",
            "Epoch [16/100], Training Loss: 1.1559, Validation Loss: 1.3734, Validation Accuracy: 50.90%\n",
            "Epoch [17/100], Training Loss: 1.2030, Validation Loss: 1.3689, Validation Accuracy: 51.60%\n",
            "Epoch [18/100], Training Loss: 1.0524, Validation Loss: 1.3612, Validation Accuracy: 51.44%\n",
            "Epoch [19/100], Training Loss: 1.0239, Validation Loss: 1.3357, Validation Accuracy: 52.87%\n",
            "Epoch [20/100], Training Loss: 1.0419, Validation Loss: 1.3293, Validation Accuracy: 53.22%\n",
            "Epoch [21/100], Training Loss: 1.1202, Validation Loss: 1.3189, Validation Accuracy: 53.35%\n",
            "Epoch [22/100], Training Loss: 1.1760, Validation Loss: 1.3093, Validation Accuracy: 53.37%\n",
            "Epoch [23/100], Training Loss: 1.0669, Validation Loss: 1.3044, Validation Accuracy: 53.65%\n",
            "Epoch [24/100], Training Loss: 1.2018, Validation Loss: 1.3036, Validation Accuracy: 53.61%\n",
            "Epoch [25/100], Training Loss: 1.1702, Validation Loss: 1.2930, Validation Accuracy: 54.17%\n",
            "Epoch [26/100], Training Loss: 1.0792, Validation Loss: 1.3006, Validation Accuracy: 53.60%\n",
            "Epoch [27/100], Training Loss: 1.0559, Validation Loss: 1.2968, Validation Accuracy: 53.96%\n",
            "Epoch [28/100], Training Loss: 1.0153, Validation Loss: 1.2780, Validation Accuracy: 54.58%\n",
            "Epoch [29/100], Training Loss: 0.9343, Validation Loss: 1.2612, Validation Accuracy: 55.69%\n",
            "Epoch [30/100], Training Loss: 1.0726, Validation Loss: 1.2730, Validation Accuracy: 55.07%\n",
            "Epoch [31/100], Training Loss: 1.0173, Validation Loss: 1.2642, Validation Accuracy: 54.55%\n",
            "Epoch [32/100], Training Loss: 1.0414, Validation Loss: 1.2403, Validation Accuracy: 56.17%\n",
            "Epoch [33/100], Training Loss: 1.0885, Validation Loss: 1.2560, Validation Accuracy: 55.04%\n",
            "Epoch [34/100], Training Loss: 0.9884, Validation Loss: 1.2687, Validation Accuracy: 55.17%\n",
            "Epoch [35/100], Training Loss: 0.9757, Validation Loss: 1.2406, Validation Accuracy: 56.00%\n",
            "Epoch [36/100], Training Loss: 1.0567, Validation Loss: 1.2278, Validation Accuracy: 56.62%\n",
            "Epoch [37/100], Training Loss: 1.0323, Validation Loss: 1.2453, Validation Accuracy: 55.47%\n",
            "Epoch [38/100], Training Loss: 0.9525, Validation Loss: 1.2370, Validation Accuracy: 56.48%\n",
            "Epoch [39/100], Training Loss: 1.0604, Validation Loss: 1.2247, Validation Accuracy: 56.29%\n",
            "Epoch [40/100], Training Loss: 1.2268, Validation Loss: 1.2249, Validation Accuracy: 56.45%\n",
            "Epoch [41/100], Training Loss: 0.8380, Validation Loss: 1.2261, Validation Accuracy: 56.89%\n",
            "Epoch [42/100], Training Loss: 1.0843, Validation Loss: 1.2038, Validation Accuracy: 57.56%\n",
            "Epoch [43/100], Training Loss: 1.1637, Validation Loss: 1.2324, Validation Accuracy: 56.70%\n",
            "Epoch [44/100], Training Loss: 0.9328, Validation Loss: 1.1898, Validation Accuracy: 58.06%\n",
            "Epoch [45/100], Training Loss: 0.8708, Validation Loss: 1.2032, Validation Accuracy: 57.65%\n",
            "Epoch [46/100], Training Loss: 0.9732, Validation Loss: 1.1894, Validation Accuracy: 57.90%\n",
            "Epoch [47/100], Training Loss: 0.9264, Validation Loss: 1.1917, Validation Accuracy: 57.89%\n",
            "Epoch [48/100], Training Loss: 1.0503, Validation Loss: 1.1795, Validation Accuracy: 58.52%\n",
            "Epoch [49/100], Training Loss: 0.9640, Validation Loss: 1.1847, Validation Accuracy: 58.15%\n",
            "Epoch [50/100], Training Loss: 0.8912, Validation Loss: 1.1799, Validation Accuracy: 58.24%\n",
            "Epoch [51/100], Training Loss: 0.8147, Validation Loss: 1.1647, Validation Accuracy: 59.44%\n",
            "Epoch [52/100], Training Loss: 0.7991, Validation Loss: 1.1742, Validation Accuracy: 58.44%\n",
            "Epoch [53/100], Training Loss: 0.7360, Validation Loss: 1.1619, Validation Accuracy: 59.07%\n",
            "Epoch [54/100], Training Loss: 0.8713, Validation Loss: 1.1586, Validation Accuracy: 59.19%\n",
            "Epoch [55/100], Training Loss: 0.8665, Validation Loss: 1.1793, Validation Accuracy: 58.52%\n",
            "Epoch [56/100], Training Loss: 0.8190, Validation Loss: 1.1714, Validation Accuracy: 58.47%\n",
            "Epoch [57/100], Training Loss: 0.9471, Validation Loss: 1.1546, Validation Accuracy: 58.99%\n",
            "Epoch [58/100], Training Loss: 0.7973, Validation Loss: 1.1453, Validation Accuracy: 59.90%\n",
            "Epoch [59/100], Training Loss: 0.9206, Validation Loss: 1.1596, Validation Accuracy: 58.80%\n",
            "Epoch [60/100], Training Loss: 0.8918, Validation Loss: 1.1461, Validation Accuracy: 59.74%\n",
            "Epoch [61/100], Training Loss: 0.6404, Validation Loss: 1.1412, Validation Accuracy: 59.98%\n",
            "Epoch [62/100], Training Loss: 0.6622, Validation Loss: 1.1365, Validation Accuracy: 60.47%\n",
            "Epoch [63/100], Training Loss: 0.7448, Validation Loss: 1.1316, Validation Accuracy: 60.39%\n",
            "Epoch [64/100], Training Loss: 0.7094, Validation Loss: 1.1341, Validation Accuracy: 59.94%\n",
            "Epoch [65/100], Training Loss: 0.8328, Validation Loss: 1.1351, Validation Accuracy: 60.02%\n",
            "Epoch [66/100], Training Loss: 0.9134, Validation Loss: 1.1196, Validation Accuracy: 60.85%\n",
            "Epoch [67/100], Training Loss: 0.7733, Validation Loss: 1.1154, Validation Accuracy: 60.95%\n",
            "Epoch [68/100], Training Loss: 0.8670, Validation Loss: 1.1207, Validation Accuracy: 60.36%\n",
            "Epoch [69/100], Training Loss: 0.6581, Validation Loss: 1.1089, Validation Accuracy: 60.87%\n",
            "Epoch [70/100], Training Loss: 0.6873, Validation Loss: 1.1068, Validation Accuracy: 61.32%\n",
            "Epoch [71/100], Training Loss: 0.6143, Validation Loss: 1.1346, Validation Accuracy: 60.28%\n",
            "Epoch [72/100], Training Loss: 0.7178, Validation Loss: 1.1029, Validation Accuracy: 61.44%\n",
            "Epoch [73/100], Training Loss: 0.7522, Validation Loss: 1.1160, Validation Accuracy: 61.01%\n",
            "Epoch [74/100], Training Loss: 0.7979, Validation Loss: 1.1154, Validation Accuracy: 60.57%\n",
            "Epoch [75/100], Training Loss: 0.7108, Validation Loss: 1.0990, Validation Accuracy: 61.10%\n",
            "Epoch [76/100], Training Loss: 0.7619, Validation Loss: 1.0923, Validation Accuracy: 61.64%\n",
            "Epoch [77/100], Training Loss: 0.6032, Validation Loss: 1.0948, Validation Accuracy: 61.64%\n",
            "Epoch [78/100], Training Loss: 0.6510, Validation Loss: 1.0967, Validation Accuracy: 61.61%\n",
            "Epoch [79/100], Training Loss: 0.7081, Validation Loss: 1.1015, Validation Accuracy: 61.75%\n",
            "Epoch [80/100], Training Loss: 0.6310, Validation Loss: 1.0866, Validation Accuracy: 61.94%\n",
            "Epoch [81/100], Training Loss: 0.6200, Validation Loss: 1.0813, Validation Accuracy: 62.29%\n",
            "Epoch [82/100], Training Loss: 0.8795, Validation Loss: 1.0963, Validation Accuracy: 61.53%\n",
            "Epoch [83/100], Training Loss: 0.6941, Validation Loss: 1.0967, Validation Accuracy: 61.32%\n",
            "Epoch [84/100], Training Loss: 0.6100, Validation Loss: 1.0731, Validation Accuracy: 62.73%\n",
            "Epoch [85/100], Training Loss: 0.5222, Validation Loss: 1.0763, Validation Accuracy: 62.30%\n",
            "Epoch [86/100], Training Loss: 0.7220, Validation Loss: 1.0680, Validation Accuracy: 62.72%\n",
            "Epoch [87/100], Training Loss: 0.7311, Validation Loss: 1.0685, Validation Accuracy: 62.65%\n",
            "Epoch [88/100], Training Loss: 0.6840, Validation Loss: 1.0875, Validation Accuracy: 61.44%\n",
            "Epoch [89/100], Training Loss: 0.6677, Validation Loss: 1.0744, Validation Accuracy: 62.48%\n",
            "Epoch [90/100], Training Loss: 0.5697, Validation Loss: 1.0685, Validation Accuracy: 62.61%\n",
            "Epoch [91/100], Training Loss: 0.6064, Validation Loss: 1.0528, Validation Accuracy: 63.41%\n",
            "Epoch [92/100], Training Loss: 0.6828, Validation Loss: 1.0713, Validation Accuracy: 62.41%\n",
            "Epoch [93/100], Training Loss: 0.6925, Validation Loss: 1.0567, Validation Accuracy: 63.38%\n",
            "Epoch [94/100], Training Loss: 0.6074, Validation Loss: 1.0596, Validation Accuracy: 62.79%\n",
            "Epoch [95/100], Training Loss: 0.6232, Validation Loss: 1.0623, Validation Accuracy: 62.64%\n",
            "Epoch [96/100], Training Loss: 0.5577, Validation Loss: 1.0500, Validation Accuracy: 63.75%\n",
            "Epoch [97/100], Training Loss: 0.7056, Validation Loss: 1.0555, Validation Accuracy: 62.90%\n",
            "Epoch [98/100], Training Loss: 0.6024, Validation Loss: 1.0408, Validation Accuracy: 63.61%\n",
            "Epoch [99/100], Training Loss: 0.5504, Validation Loss: 1.0551, Validation Accuracy: 62.99%\n",
            "Epoch [100/100], Training Loss: 0.5349, Validation Loss: 1.0524, Validation Accuracy: 62.75%\n"
          ]
        }
      ]
    }
  ]
}