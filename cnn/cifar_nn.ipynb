{
  "nbformat": 4,
  "nbformat_minor": 0,
  "metadata": {
    "colab": {
      "provenance": [],
      "gpuType": "T4",
      "authorship_tag": "ABX9TyO6lWBh5lGMQjnSC/HFDdWV",
      "include_colab_link": true
    },
    "kernelspec": {
      "name": "python3",
      "display_name": "Python 3"
    },
    "language_info": {
      "name": "python"
    },
    "accelerator": "GPU"
  },
  "cells": [
    {
      "cell_type": "markdown",
      "metadata": {
        "id": "view-in-github",
        "colab_type": "text"
      },
      "source": [
        "<a href=\"https://colab.research.google.com/github/NoCodeProgram/deepLearning/blob/main/cnn/cifar_nn.ipynb\" target=\"_parent\"><img src=\"https://colab.research.google.com/assets/colab-badge.svg\" alt=\"Open In Colab\"/></a>"
      ]
    },
    {
      "cell_type": "code",
      "source": [
        "from torchvision import datasets\n",
        "import numpy as np\n",
        "import matplotlib.pyplot as plt\n",
        "\n",
        "# Load dataset\n",
        "CIFAR10_trainset = datasets.CIFAR10('~/.pytorch/CIFAR10_data/', download=True, train=True)\n",
        "print(len(CIFAR10_trainset))\n",
        "\n",
        "# Fetch the first image and its label\n",
        "CIFAR10_img, CIFAR10_label = CIFAR10_trainset[6]\n",
        "# Convert the PIL Image to a numpy array\n",
        "CIFAR10_img_array = np.array(CIFAR10_img)\n",
        "\n",
        "print(f\"label: {CIFAR10_label}\")\n",
        "print(f\"shape: {CIFAR10_img_array.shape}\")\n",
        "# Display the image\n",
        "plt.imshow(CIFAR10_img_array)  # No need for cmap='gray' for CIFAR10\n",
        "plt.title(f'Label: {CIFAR10_label}')\n",
        "plt.show()"
      ],
      "metadata": {
        "colab": {
          "base_uri": "https://localhost:8080/",
          "height": 556
        },
        "id": "xnqY_S2t-oKO",
        "outputId": "88ab1b6e-bade-44d8-d93d-9a1f9aaa2d5d"
      },
      "execution_count": 1,
      "outputs": [
        {
          "output_type": "stream",
          "name": "stdout",
          "text": [
            "Downloading https://www.cs.toronto.edu/~kriz/cifar-10-python.tar.gz to /root/.pytorch/CIFAR10_data/cifar-10-python.tar.gz\n"
          ]
        },
        {
          "output_type": "stream",
          "name": "stderr",
          "text": [
            "100%|██████████| 170498071/170498071 [00:02<00:00, 81548314.94it/s]\n"
          ]
        },
        {
          "output_type": "stream",
          "name": "stdout",
          "text": [
            "Extracting /root/.pytorch/CIFAR10_data/cifar-10-python.tar.gz to /root/.pytorch/CIFAR10_data/\n",
            "50000\n",
            "label: 2\n",
            "shape: (32, 32, 3)\n"
          ]
        },
        {
          "output_type": "display_data",
          "data": {
            "text/plain": [
              "<Figure size 640x480 with 1 Axes>"
            ],
            "image/png": "[encoded data removed]"
          },
          "metadata": {}
        }
      ]
    },
    {
      "cell_type": "code",
      "source": [
        "import torch\n",
        "import torch.nn as nn\n",
        "import torch.optim as optim\n",
        "from torchvision import datasets, transforms\n",
        "\n",
        "# 1. Data loading and preprocessing\n",
        "transform = transforms.Compose([\n",
        "    transforms.ToTensor(),\n",
        "    transforms.Normalize((0.5, 0.5, 0.5), (0.5, 0.5, 0.5))  # Normalizing for each RGB channel\n",
        "])\n",
        "\n",
        "train_dataset = datasets.CIFAR10(root='./data', train=True, transform=transform, download=True)\n",
        "train_loader = torch.utils.data.DataLoader(train_dataset, batch_size=128, shuffle=True)\n",
        "\n",
        "val_dataset = datasets.CIFAR10(root='./data', train=False, transform=transform)\n",
        "val_loader = torch.utils.data.DataLoader(val_dataset, batch_size=128, shuffle=False)\n",
        "\n",
        "# 2. Define the mynet model\n",
        "class MyNet(nn.Module):\n",
        "    def __init__(self, input_size: int, hidden_size: int, output_size: int):\n",
        "        super().__init__()\n",
        "        self.seq_model = nn.Sequential(\n",
        "            nn.Linear(input_size, hidden_size, bias=True),\n",
        "            nn.ReLU(),\n",
        "            nn.Linear(hidden_size, hidden_size, bias=True),\n",
        "            nn.ReLU(),\n",
        "            nn.Linear(hidden_size, hidden_size, bias=True),\n",
        "            nn.ReLU(),\n",
        "            nn.Dropout(),\n",
        "            nn.Linear(hidden_size, hidden_size, bias=True),\n",
        "            nn.ReLU(),\n",
        "            nn.Dropout(),\n",
        "            nn.Linear(hidden_size, output_size)\n",
        "        )\n",
        "\n",
        "    def forward(self, x: torch.Tensor) -> torch.Tensor:\n",
        "        # print(x.size())\n",
        "        x = x.view(x.size(0), -1)  # Reshape the input here\n",
        "        return self.seq_model(x)\n",
        "\n",
        "mynet = MyNet(input_size=32*32*3, hidden_size=128, output_size=10)\n"
      ],
      "metadata": {
        "colab": {
          "base_uri": "https://localhost:8080/"
        },
        "id": "d07vwX7T-o4B",
        "outputId": "ee30a4a0-efc8-47d1-efbb-039cc024025b"
      },
      "execution_count": 2,
      "outputs": [
        {
          "output_type": "stream",
          "name": "stdout",
          "text": [
            "Downloading https://www.cs.toronto.edu/~kriz/cifar-10-python.tar.gz to ./data/cifar-10-python.tar.gz\n"
          ]
        },
        {
          "output_type": "stream",
          "name": "stderr",
          "text": [
            "100%|██████████| 170498071/170498071 [00:01<00:00, 99027909.69it/s] \n"
          ]
        },
        {
          "output_type": "stream",
          "name": "stdout",
          "text": [
            "Extracting ./data/cifar-10-python.tar.gz to ./data\n"
          ]
        }
      ]
    },
    {
      "cell_type": "code",
      "source": [
        "mynet.eval()\n",
        "correct_count = 0\n",
        "with torch.no_grad():\n",
        "    for data, label in val_loader:\n",
        "        scores = mynet(data)\n",
        "        predicted = scores.argmax(dim=1)\n",
        "        correct_count += predicted.eq(label).sum().item()\n",
        "\n",
        "    val_accuracy = 100. * correct_count / len(val_loader.dataset)\n",
        "\n",
        "print(f\"First Validation Accuracy: {val_accuracy:.2f}%\")\n"
      ],
      "metadata": {
        "colab": {
          "base_uri": "https://localhost:8080/"
        },
        "id": "Y5gdYs-9-rNA",
        "outputId": "85abc55e-32a5-4918-c78a-55d2b375621b"
      },
      "execution_count": 3,
      "outputs": [
        {
          "output_type": "stream",
          "name": "stdout",
          "text": [
            "First Validation Accuracy: 9.25%\n"
          ]
        }
      ]
    },
    {
      "cell_type": "code",
      "source": [
        "import torch\n",
        "import torchvision\n",
        "import matplotlib.pyplot as plt\n",
        "\n",
        "if torch.backends.mps.is_available():\n",
        "    my_device = torch.device('mps')\n",
        "elif torch.cuda.is_available():\n",
        "    my_device = torch.device('cuda')\n",
        "else:\n",
        "    my_device = torch.device('cpu')\n",
        "\n",
        "print(my_device)"
      ],
      "metadata": {
        "colab": {
          "base_uri": "https://localhost:8080/"
        },
        "id": "RHaPCw3A-sdF",
        "outputId": "5c6e1237-3e43-48b1-e4a7-a783fa92ec93"
      },
      "execution_count": 4,
      "outputs": [
        {
          "output_type": "stream",
          "name": "stdout",
          "text": [
            "cuda\n"
          ]
        }
      ]
    },
    {
      "cell_type": "code",
      "source": [
        "# 3. Initialize loss function and optimizer\n",
        "loss_fn = nn.CrossEntropyLoss()\n",
        "optimizer = optim.Adam(mynet.parameters(), lr=0.001)\n",
        "\n",
        "# 4. Train the model\n",
        "mynet.to(my_device)\n",
        "num_epochs = 100\n",
        "for epoch in range(num_epochs):\n",
        "    mynet.train()\n",
        "    for batch_idx, (data, label) in enumerate(train_loader):\n",
        "        data, label = data.to(my_device), label.to(my_device)\n",
        "        scores = mynet(data)\n",
        "        loss = loss_fn(scores, label)\n",
        "\n",
        "        optimizer.zero_grad()\n",
        "        loss.backward()\n",
        "        optimizer.step()\n",
        "\n",
        "    mynet.eval()\n",
        "    val_loss = 0.0\n",
        "    correct = 0\n",
        "    with torch.no_grad():\n",
        "        for data, label in val_loader:\n",
        "            data, label = data.to(my_device), label.to(my_device)\n",
        "            scores = mynet(data)\n",
        "            loss = loss_fn(scores, label)\n",
        "            val_loss += loss.item() * data.size(0)\n",
        "\n",
        "            predicted = scores.argmax(dim=1)\n",
        "            correct += predicted.eq(label).sum().item()\n",
        "\n",
        "    val_loss /= len(val_loader.dataset)\n",
        "    val_accuracy = 100. * correct / len(val_loader.dataset)\n",
        "\n",
        "    print(f\"Epoch [{epoch + 1}/{num_epochs}], Training Loss: {loss.item():.4f}, Validation Loss: {val_loss:.4f}, Validation Accuracy: {val_accuracy:.2f}%\")\n"
      ],
      "metadata": {
        "colab": {
          "base_uri": "https://localhost:8080/"
        },
        "id": "8ZwrfosI-tdy",
        "outputId": "7c78fa76-68d5-43f2-c1d9-455549298e80"
      },
      "execution_count": null,
      "outputs": [
        {
          "output_type": "stream",
          "name": "stdout",
          "text": [
            "Epoch [1/100], Training Loss: 1.5342, Validation Loss: 1.6114, Validation Accuracy: 42.26%\n",
            "Epoch [2/100], Training Loss: 1.1836, Validation Loss: 1.5214, Validation Accuracy: 46.08%\n",
            "Epoch [3/100], Training Loss: 1.3263, Validation Loss: 1.4422, Validation Accuracy: 48.79%\n",
            "Epoch [4/100], Training Loss: 1.3654, Validation Loss: 1.4113, Validation Accuracy: 50.20%\n",
            "Epoch [5/100], Training Loss: 1.2950, Validation Loss: 1.3996, Validation Accuracy: 50.76%\n",
            "Epoch [6/100], Training Loss: 1.5392, Validation Loss: 1.3810, Validation Accuracy: 51.37%\n",
            "Epoch [7/100], Training Loss: 1.3302, Validation Loss: 1.3716, Validation Accuracy: 52.31%\n",
            "Epoch [8/100], Training Loss: 1.3337, Validation Loss: 1.3590, Validation Accuracy: 52.50%\n",
            "Epoch [9/100], Training Loss: 1.5015, Validation Loss: 1.3663, Validation Accuracy: 52.07%\n",
            "Epoch [10/100], Training Loss: 1.3429, Validation Loss: 1.3752, Validation Accuracy: 52.51%\n",
            "Epoch [11/100], Training Loss: 1.6284, Validation Loss: 1.3687, Validation Accuracy: 53.10%\n",
            "Epoch [12/100], Training Loss: 1.3971, Validation Loss: 1.3953, Validation Accuracy: 52.28%\n",
            "Epoch [13/100], Training Loss: 1.3243, Validation Loss: 1.3936, Validation Accuracy: 52.44%\n",
            "Epoch [14/100], Training Loss: 1.1749, Validation Loss: 1.4120, Validation Accuracy: 52.66%\n"
          ]
        }
      ]
    }
  ]
}