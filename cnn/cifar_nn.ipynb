{
  "nbformat": 4,
  "nbformat_minor": 0,
  "metadata": {
    "colab": {
      "provenance": [],
      "gpuType": "T4",
      "authorship_tag": "ABX9TyNCGydABzJjtE7aR/CMMFU9",
      "include_colab_link": true
    },
    "kernelspec": {
      "name": "python3",
      "display_name": "Python 3"
    },
    "language_info": {
      "name": "python"
    },
    "accelerator": "GPU"
  },
  "cells": [
    {
      "cell_type": "markdown",
      "metadata": {
        "id": "view-in-github",
        "colab_type": "text"
      },
      "source": [
        "<a href=\"https://colab.research.google.com/github/NoCodeProgram/deepLearning/blob/main/cnn/cifar_nn.ipynb\" target=\"_parent\"><img src=\"https://colab.research.google.com/assets/colab-badge.svg\" alt=\"Open In Colab\"/></a>"
      ]
    },
    {
      "cell_type": "code",
      "execution_count": 1,
      "metadata": {
        "id": "aTHJ7sHGuGe7"
      },
      "outputs": [],
      "source": [
        "import torch\n",
        "import torchvision\n",
        "import matplotlib.pyplot as plt\n",
        "\n",
        "if torch.backends.mps.is_available():\n",
        "    my_device = torch.device('mps')\n",
        "elif torch.cuda.is_available():\n",
        "    my_device = torch.device('cuda')\n",
        "else:\n",
        "    my_device = torch.device('cpu')\n"
      ]
    },
    {
      "cell_type": "code",
      "source": [
        "import torch\n",
        "import torch.nn as nn\n",
        "import torch.optim as optim\n",
        "from torchvision import datasets, transforms\n",
        "\n",
        "# 1. Data loading and preprocessing\n",
        "transform = transforms.Compose([\n",
        "    transforms.ToTensor(),\n",
        "    transforms.Normalize((0.5, 0.5, 0.5), (0.5, 0.5, 0.5))  # Normalizing for each RGB channel\n",
        "])\n",
        "\n",
        "train_dataset = datasets.CIFAR10(root='./data', train=True, transform=transform, download=True)\n",
        "train_loader = torch.utils.data.DataLoader(train_dataset, batch_size=128, shuffle=True)\n",
        "\n",
        "val_dataset = datasets.CIFAR10(root='./data', train=False, transform=transform)\n",
        "val_loader = torch.utils.data.DataLoader(val_dataset, batch_size=128, shuffle=False)\n",
        "\n",
        "# 2. Define the mynet model\n",
        "class MyNet(nn.Module):\n",
        "    def __init__(self, input_size: int, hidden_size: int, output_size: int):\n",
        "        super().__init__()\n",
        "        self.seq_model = nn.Sequential(\n",
        "            nn.Linear(input_size, hidden_size, bias=True),\n",
        "            nn.ReLU(),\n",
        "            nn.Linear(hidden_size, hidden_size, bias=True),\n",
        "            nn.ReLU(),\n",
        "            nn.Linear(hidden_size, hidden_size, bias=True),\n",
        "            nn.ReLU(),\n",
        "            nn.Dropout(),\n",
        "            nn.Linear(hidden_size, hidden_size, bias=True),\n",
        "            nn.ReLU(),\n",
        "            nn.Dropout(),\n",
        "            nn.Linear(hidden_size, output_size)\n",
        "        )\n",
        "\n",
        "    def forward(self, x: torch.Tensor) -> torch.Tensor:\n",
        "        x = x.view(x.size(0), -1)  # Reshape the input here\n",
        "        return self.seq_model(x)\n",
        "\n",
        "mynet = MyNet(input_size=32*32*3, hidden_size=128, output_size=10)\n"
      ],
      "metadata": {
        "colab": {
          "base_uri": "https://localhost:8080/"
        },
        "id": "RzI2A3QWuRHS",
        "outputId": "333b8a2c-ae12-483a-85e8-f46b0cb8be8c"
      },
      "execution_count": 2,
      "outputs": [
        {
          "output_type": "stream",
          "name": "stdout",
          "text": [
            "Downloading https://www.cs.toronto.edu/~kriz/cifar-10-python.tar.gz to ./data/cifar-10-python.tar.gz\n"
          ]
        },
        {
          "output_type": "stream",
          "name": "stderr",
          "text": [
            "100%|██████████| 170498071/170498071 [00:05<00:00, 28931684.78it/s]\n"
          ]
        },
        {
          "output_type": "stream",
          "name": "stdout",
          "text": [
            "Extracting ./data/cifar-10-python.tar.gz to ./data\n"
          ]
        }
      ]
    },
    {
      "cell_type": "code",
      "source": [
        "correct_count = 0\n",
        "with torch.no_grad():\n",
        "    for data, targets in val_loader:\n",
        "        scores = mynet(data)\n",
        "        predicted = scores.argmax(dim=1)\n",
        "        correct_count += predicted.eq(targets).sum().item()\n",
        "\n",
        "    val_accuracy = 100. * correct_count / len(val_loader.dataset)\n",
        "\n",
        "print(f\"First Validation Accuracy: {val_accuracy:.2f}%\")\n"
      ],
      "metadata": {
        "colab": {
          "base_uri": "https://localhost:8080/"
        },
        "id": "An5yJykbuS63",
        "outputId": "b07b3a47-0cd6-441d-d802-efa73fa126a7"
      },
      "execution_count": 3,
      "outputs": [
        {
          "output_type": "stream",
          "name": "stdout",
          "text": [
            "First Validation Accuracy: 10.09%\n"
          ]
        }
      ]
    },
    {
      "cell_type": "code",
      "source": [
        "# 3. Initialize loss function and optimizer\n",
        "loss_fn = nn.CrossEntropyLoss()\n",
        "optimizer = optim.Adam(mynet.parameters(), lr=0.001)\n",
        "\n",
        "# 4. Train the model\n",
        "mynet.to(my_device)\n",
        "num_epochs = 100\n",
        "for epoch in range(num_epochs):\n",
        "    mynet.train()\n",
        "    for batch_idx, (data, targets) in enumerate(train_loader):\n",
        "        data, targets = data.to(my_device), targets.to(my_device)\n",
        "        scores = mynet(data)\n",
        "        loss = loss_fn(scores, targets)\n",
        "\n",
        "        optimizer.zero_grad()\n",
        "        loss.backward()\n",
        "        optimizer.step()\n",
        "\n",
        "    mynet.eval()\n",
        "    val_loss = 0.0\n",
        "    correct = 0\n",
        "    with torch.no_grad():\n",
        "        for data, targets in val_loader:\n",
        "            data, targets = data.to(my_device), targets.to(my_device)\n",
        "            scores = mynet(data)\n",
        "            loss = loss_fn(scores, targets)\n",
        "            val_loss += loss.item() * data.size(0)\n",
        "\n",
        "            predicted = scores.argmax(dim=1)\n",
        "            correct += predicted.eq(targets).sum().item()\n",
        "\n",
        "    val_loss /= len(val_loader.dataset)\n",
        "    val_accuracy = 100. * correct / len(val_loader.dataset)\n",
        "\n",
        "    print(f\"Epoch [{epoch + 1}/{num_epochs}], Training Loss: {loss.item():.4f}, Validation Loss: {val_loss:.4f}, Validation Accuracy: {val_accuracy:.2f}%\")\n"
      ],
      "metadata": {
        "colab": {
          "base_uri": "https://localhost:8080/"
        },
        "id": "InEd1l7HuU20",
        "outputId": "923ea62b-5923-4ad4-9cd2-7f04b1cbe2e5"
      },
      "execution_count": null,
      "outputs": [
        {
          "output_type": "stream",
          "name": "stdout",
          "text": [
            "Epoch [1/100], Training Loss: 1.4732, Validation Loss: 1.5931, Validation Accuracy: 44.61%\n",
            "Epoch [2/100], Training Loss: 1.4671, Validation Loss: 1.5102, Validation Accuracy: 47.38%\n",
            "Epoch [3/100], Training Loss: 1.5537, Validation Loss: 1.4609, Validation Accuracy: 48.14%\n",
            "Epoch [4/100], Training Loss: 1.4527, Validation Loss: 1.4225, Validation Accuracy: 49.55%\n",
            "Epoch [5/100], Training Loss: 1.3204, Validation Loss: 1.4116, Validation Accuracy: 49.99%\n",
            "Epoch [6/100], Training Loss: 1.2641, Validation Loss: 1.4001, Validation Accuracy: 51.05%\n",
            "Epoch [7/100], Training Loss: 1.1481, Validation Loss: 1.3734, Validation Accuracy: 52.09%\n",
            "Epoch [8/100], Training Loss: 1.4672, Validation Loss: 1.3686, Validation Accuracy: 52.55%\n"
          ]
        }
      ]
    }
  ]
}