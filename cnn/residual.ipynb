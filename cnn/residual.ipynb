{
  "nbformat": 4,
  "nbformat_minor": 0,
  "metadata": {
    "colab": {
      "provenance": [],
      "gpuType": "T4",
      "authorship_tag": "ABX9TyNy1GKov0S/ZiA5BTbpNCDh",
      "include_colab_link": true
    },
    "kernelspec": {
      "name": "python3",
      "display_name": "Python 3"
    },
    "language_info": {
      "name": "python"
    },
    "accelerator": "GPU"
  },
  "cells": [
    {
      "cell_type": "markdown",
      "metadata": {
        "id": "view-in-github",
        "colab_type": "text"
      },
      "source": [
        "<a href=\"https://colab.research.google.com/github/NoCodeProgram/deepLearning/blob/main/cnn/residual.ipynb\" target=\"_parent\"><img src=\"https://colab.research.google.com/assets/colab-badge.svg\" alt=\"Open In Colab\"/></a>"
      ]
    },
    {
      "cell_type": "code",
      "execution_count": 12,
      "metadata": {
        "colab": {
          "base_uri": "https://localhost:8080/"
        },
        "id": "NbCjzC2hf4dz",
        "outputId": "ca1872ac-ef40-44ed-8fbe-d38299e4baac"
      },
      "outputs": [
        {
          "output_type": "stream",
          "name": "stdout",
          "text": [
            "cuda\n"
          ]
        }
      ],
      "source": [
        "import torch\n",
        "import torchvision\n",
        "import matplotlib.pyplot as plt\n",
        "\n",
        "if torch.backends.mps.is_available():\n",
        "    my_device = torch.device('mps')\n",
        "elif torch.cuda.is_available():\n",
        "    my_device = torch.device('cuda')\n",
        "else:\n",
        "    my_device = torch.device('cpu')\n",
        "\n",
        "print(my_device)"
      ]
    },
    {
      "cell_type": "code",
      "source": [
        "import torch\n",
        "import torch.nn as nn\n",
        "import torch.optim as optim\n",
        "import torchvision\n",
        "import torchvision.transforms as transforms\n",
        "import torch.nn.functional as F\n",
        "\n",
        "# Load CIFAR10 dataset\n",
        "train_transform = transforms.Compose([\n",
        "    transforms.RandomHorizontalFlip(),\n",
        "    transforms.RandomVerticalFlip(),\n",
        "    transforms.RandomRotation(30),\n",
        "    transforms.RandomCrop(32, padding=4),\n",
        "    transforms.ColorJitter(brightness=0.5, contrast=0.5, saturation=0.5, hue=0.5),\n",
        "    transforms.ToTensor(),\n",
        "    transforms.Normalize((0.5, 0.5, 0.5), (0.5, 0.5, 0.5))\n",
        "])\n",
        "\n",
        "trainset = torchvision.datasets.CIFAR10(root='./data', train=True, download=True, transform=train_transform)\n",
        "trainloader = torch.utils.data.DataLoader(trainset, batch_size=4, shuffle=True, num_workers=8)\n",
        "\n",
        "test_transform = transforms.Compose([\n",
        "    transforms.ToTensor(),\n",
        "    transforms.Normalize((0.5, 0.5, 0.5), (0.5, 0.5, 0.5))\n",
        "])\n",
        "\n",
        "testset = torchvision.datasets.CIFAR10(root='./data', train=False, download=True, transform=test_transform)\n",
        "testloader = torch.utils.data.DataLoader(testset, batch_size=4, shuffle=False, num_workers=8)\n"
      ],
      "metadata": {
        "colab": {
          "base_uri": "https://localhost:8080/"
        },
        "id": "xoxZ1qTIf-dN",
        "outputId": "d1db78f8-79ae-4cc2-ffb9-29a29ec58a4b"
      },
      "execution_count": 13,
      "outputs": [
        {
          "output_type": "stream",
          "name": "stdout",
          "text": [
            "Files already downloaded and verified\n",
            "Files already downloaded and verified\n"
          ]
        }
      ]
    },
    {
      "cell_type": "code",
      "source": [
        "class ResidualBlock(nn.Module):\n",
        "    def __init__(self, in_channels, out_channels):\n",
        "        super().__init__()\n",
        "\n",
        "        self.conv1 = nn.Conv2d(in_channels, out_channels, kernel_size=3, padding=1, bias=False)\n",
        "        self.bn1 = nn.BatchNorm2d(out_channels)\n",
        "\n",
        "        self.conv2 = nn.Conv2d(out_channels, out_channels, kernel_size=3, padding=1, bias=False)\n",
        "        self.bn2 = nn.BatchNorm2d(out_channels)\n",
        "\n",
        "        self.shortcut = nn.Identity()\n",
        "\n",
        "    def forward(self, x):\n",
        "        out = F.relu(self.bn1(self.conv1(x)))\n",
        "        out = self.bn2(self.conv2(out))\n",
        "        out += self.shortcut(x)\n",
        "        out = F.relu(out)\n",
        "        return out\n",
        "\n",
        "\n",
        "\n",
        "class SuperSimpleResNet(nn.Module):\n",
        "    def __init__(self, num_classes=10):\n",
        "        super().__init__()\n",
        "\n",
        "        self.down_spatial = nn.Sequential(\n",
        "            nn.Conv2d(3, 64, kernel_size=3, stride=2, padding=1, bias=False),\n",
        "            nn.BatchNorm2d(64),\n",
        "            nn.ReLU(inplace=True)\n",
        "        )\n",
        "\n",
        "        self.features = nn.Sequential(\n",
        "            ResidualBlock(64, 64),\n",
        "            ResidualBlock(64, 64),\n",
        "            ResidualBlock(64, 64),\n",
        "            ResidualBlock(64, 64),\n",
        "            ResidualBlock(64, 64),\n",
        "        )\n",
        "\n",
        "        self.global_avg_pool = nn.AdaptiveAvgPool2d(1)\n",
        "        self.classifier = nn.Linear(64, num_classes)\n",
        "\n",
        "    def forward(self, x):\n",
        "        x = self.down_spatial(x)\n",
        "        x = self.features(x)\n",
        "        x = self.global_avg_pool(x)\n",
        "        x = torch.flatten(x, 1)\n",
        "        x = self.classifier(x)\n",
        "        return x\n",
        "\n",
        "# Instantiate the network\n",
        "net = SuperSimpleResNet(num_classes=10)\n",
        "\n",
        "# Loss function and optimizer\n",
        "criterion = nn.CrossEntropyLoss()\n",
        "optimizer = optim.Adam(net.parameters(), lr=0.0001)\n"
      ],
      "metadata": {
        "id": "yH3CCqPzgAop"
      },
      "execution_count": 14,
      "outputs": []
    },
    {
      "cell_type": "code",
      "source": [
        "net.to(my_device)\n",
        "num_epochs = 100\n",
        "for epoch in range(num_epochs):\n",
        "    net.train()\n",
        "    for batch_idx, (data, label) in enumerate(trainloader):\n",
        "        data, label = data.to(my_device), label.to(my_device)\n",
        "        scores = net(data)\n",
        "        loss = criterion(scores, label)\n",
        "\n",
        "        optimizer.zero_grad()\n",
        "        loss.backward()\n",
        "        optimizer.step()\n",
        "\n",
        "    net.eval()\n",
        "    val_loss = 0.0\n",
        "    correct = 0\n",
        "    with torch.no_grad():\n",
        "        for data, label in testloader:\n",
        "            data, label = data.to(my_device), label.to(my_device)\n",
        "            scores = net(data)\n",
        "            loss = criterion(scores, label)\n",
        "            val_loss += loss.item() * data.size(0)\n",
        "\n",
        "            predicted = scores.argmax(dim=1)\n",
        "            correct += predicted.eq(label).sum().item()\n",
        "\n",
        "    val_loss /= len(testloader.dataset)\n",
        "    val_accuracy = 100. * correct / len(testloader.dataset)\n",
        "\n",
        "    print(f\"Epoch [{epoch + 1}/{num_epochs}], Training Loss: {loss.item():.4f}, Validation Loss: {val_loss:.4f}, Validation Accuracy: {val_accuracy:.2f}%\")\n"
      ],
      "metadata": {
        "colab": {
          "base_uri": "https://localhost:8080/"
        },
        "id": "3O_XveEogCyN",
        "outputId": "4298e649-b564-4c78-da25-eae723d6d068"
      },
      "execution_count": null,
      "outputs": [
        {
          "output_type": "stream",
          "name": "stdout",
          "text": [
            "Epoch [1/100], Training Loss: 0.9640, Validation Loss: 1.6850, Validation Accuracy: 37.07%\n",
            "Epoch [2/100], Training Loss: 0.6666, Validation Loss: 1.4386, Validation Accuracy: 47.76%\n",
            "Epoch [3/100], Training Loss: 0.6145, Validation Loss: 1.3775, Validation Accuracy: 52.09%\n",
            "Epoch [4/100], Training Loss: 0.5548, Validation Loss: 1.4836, Validation Accuracy: 50.64%\n",
            "Epoch [5/100], Training Loss: 0.5433, Validation Loss: 1.2835, Validation Accuracy: 54.40%\n",
            "Epoch [6/100], Training Loss: 0.5482, Validation Loss: 1.2663, Validation Accuracy: 56.05%\n",
            "Epoch [7/100], Training Loss: 0.8285, Validation Loss: 1.1351, Validation Accuracy: 60.82%\n",
            "Epoch [8/100], Training Loss: 0.4301, Validation Loss: 1.1262, Validation Accuracy: 60.98%\n",
            "Epoch [9/100], Training Loss: 0.9669, Validation Loss: 1.2390, Validation Accuracy: 58.10%\n",
            "Epoch [10/100], Training Loss: 0.5485, Validation Loss: 1.0983, Validation Accuracy: 62.44%\n",
            "Epoch [11/100], Training Loss: 0.4406, Validation Loss: 1.0895, Validation Accuracy: 63.14%\n",
            "Epoch [12/100], Training Loss: 0.8854, Validation Loss: 1.0907, Validation Accuracy: 63.12%\n",
            "Epoch [13/100], Training Loss: 0.9730, Validation Loss: 1.1028, Validation Accuracy: 62.67%\n",
            "Epoch [14/100], Training Loss: 0.4510, Validation Loss: 0.9529, Validation Accuracy: 66.94%\n",
            "Epoch [15/100], Training Loss: 0.4664, Validation Loss: 1.0405, Validation Accuracy: 64.64%\n",
            "Epoch [16/100], Training Loss: 0.4921, Validation Loss: 1.0258, Validation Accuracy: 65.14%\n",
            "Epoch [17/100], Training Loss: 0.3074, Validation Loss: 0.9901, Validation Accuracy: 66.29%\n",
            "Epoch [18/100], Training Loss: 0.5640, Validation Loss: 0.9929, Validation Accuracy: 65.96%\n",
            "Epoch [19/100], Training Loss: 0.4120, Validation Loss: 0.9813, Validation Accuracy: 66.63%\n",
            "Epoch [20/100], Training Loss: 0.2547, Validation Loss: 0.9468, Validation Accuracy: 67.71%\n",
            "Epoch [21/100], Training Loss: 0.2874, Validation Loss: 0.9256, Validation Accuracy: 68.97%\n",
            "Epoch [22/100], Training Loss: 0.1696, Validation Loss: 0.9134, Validation Accuracy: 69.06%\n",
            "Epoch [23/100], Training Loss: 0.2363, Validation Loss: 0.8977, Validation Accuracy: 69.71%\n",
            "Epoch [24/100], Training Loss: 0.3513, Validation Loss: 0.9564, Validation Accuracy: 68.37%\n",
            "Epoch [25/100], Training Loss: 0.1325, Validation Loss: 0.9086, Validation Accuracy: 69.35%\n",
            "Epoch [26/100], Training Loss: 0.5894, Validation Loss: 0.8606, Validation Accuracy: 70.77%\n",
            "Epoch [27/100], Training Loss: 0.4123, Validation Loss: 0.9452, Validation Accuracy: 68.81%\n",
            "Epoch [28/100], Training Loss: 0.1365, Validation Loss: 0.9474, Validation Accuracy: 68.35%\n",
            "Epoch [29/100], Training Loss: 0.2608, Validation Loss: 0.8961, Validation Accuracy: 69.62%\n",
            "Epoch [30/100], Training Loss: 0.3337, Validation Loss: 0.8593, Validation Accuracy: 70.78%\n",
            "Epoch [31/100], Training Loss: 0.5070, Validation Loss: 0.8335, Validation Accuracy: 71.38%\n",
            "Epoch [32/100], Training Loss: 0.4630, Validation Loss: 0.8961, Validation Accuracy: 69.53%\n",
            "Epoch [33/100], Training Loss: 0.1944, Validation Loss: 0.8121, Validation Accuracy: 71.96%\n",
            "Epoch [34/100], Training Loss: 0.1424, Validation Loss: 0.8183, Validation Accuracy: 71.71%\n",
            "Epoch [35/100], Training Loss: 0.2916, Validation Loss: 0.7687, Validation Accuracy: 73.73%\n",
            "Epoch [36/100], Training Loss: 0.5968, Validation Loss: 0.8208, Validation Accuracy: 72.21%\n",
            "Epoch [37/100], Training Loss: 0.3345, Validation Loss: 0.7978, Validation Accuracy: 73.24%\n",
            "Epoch [38/100], Training Loss: 0.5063, Validation Loss: 0.8412, Validation Accuracy: 72.02%\n",
            "Epoch [39/100], Training Loss: 0.3026, Validation Loss: 0.7914, Validation Accuracy: 72.69%\n",
            "Epoch [40/100], Training Loss: 0.2358, Validation Loss: 0.7789, Validation Accuracy: 73.42%\n",
            "Epoch [41/100], Training Loss: 0.1211, Validation Loss: 0.7607, Validation Accuracy: 74.14%\n",
            "Epoch [42/100], Training Loss: 0.1059, Validation Loss: 0.7487, Validation Accuracy: 74.43%\n",
            "Epoch [43/100], Training Loss: 0.1776, Validation Loss: 0.7803, Validation Accuracy: 73.61%\n",
            "Epoch [44/100], Training Loss: 0.1329, Validation Loss: 0.7411, Validation Accuracy: 74.55%\n",
            "Epoch [45/100], Training Loss: 0.2604, Validation Loss: 0.7890, Validation Accuracy: 73.24%\n",
            "Epoch [46/100], Training Loss: 0.1567, Validation Loss: 0.7919, Validation Accuracy: 73.51%\n",
            "Epoch [47/100], Training Loss: 0.2607, Validation Loss: 0.7628, Validation Accuracy: 73.75%\n",
            "Epoch [48/100], Training Loss: 0.1162, Validation Loss: 0.8374, Validation Accuracy: 72.16%\n",
            "Epoch [49/100], Training Loss: 0.1489, Validation Loss: 0.7756, Validation Accuracy: 74.32%\n",
            "Epoch [50/100], Training Loss: 0.1726, Validation Loss: 0.7747, Validation Accuracy: 74.03%\n",
            "Epoch [51/100], Training Loss: 0.1112, Validation Loss: 0.7613, Validation Accuracy: 74.17%\n",
            "Epoch [52/100], Training Loss: 0.7977, Validation Loss: 0.7446, Validation Accuracy: 74.96%\n",
            "Epoch [53/100], Training Loss: 0.1043, Validation Loss: 0.7370, Validation Accuracy: 75.08%\n",
            "Epoch [54/100], Training Loss: 0.4794, Validation Loss: 0.7469, Validation Accuracy: 74.89%\n",
            "Epoch [55/100], Training Loss: 0.2664, Validation Loss: 0.7733, Validation Accuracy: 74.10%\n",
            "Epoch [56/100], Training Loss: 0.1586, Validation Loss: 0.7220, Validation Accuracy: 75.47%\n",
            "Epoch [57/100], Training Loss: 0.5180, Validation Loss: 0.7627, Validation Accuracy: 73.66%\n",
            "Epoch [58/100], Training Loss: 0.1820, Validation Loss: 0.7273, Validation Accuracy: 75.48%\n",
            "Epoch [59/100], Training Loss: 0.1895, Validation Loss: 0.7031, Validation Accuracy: 76.60%\n",
            "Epoch [60/100], Training Loss: 0.1912, Validation Loss: 0.7291, Validation Accuracy: 74.93%\n",
            "Epoch [61/100], Training Loss: 0.0829, Validation Loss: 0.7005, Validation Accuracy: 76.56%\n",
            "Epoch [62/100], Training Loss: 0.0991, Validation Loss: 0.6750, Validation Accuracy: 76.92%\n",
            "Epoch [63/100], Training Loss: 0.0522, Validation Loss: 0.7011, Validation Accuracy: 76.34%\n",
            "Epoch [64/100], Training Loss: 0.0947, Validation Loss: 0.7051, Validation Accuracy: 76.12%\n",
            "Epoch [65/100], Training Loss: 0.0617, Validation Loss: 0.7172, Validation Accuracy: 75.68%\n",
            "Epoch [66/100], Training Loss: 0.1473, Validation Loss: 0.7219, Validation Accuracy: 76.02%\n",
            "Epoch [67/100], Training Loss: 0.1071, Validation Loss: 0.6852, Validation Accuracy: 76.67%\n",
            "Epoch [68/100], Training Loss: 0.1047, Validation Loss: 0.7214, Validation Accuracy: 75.86%\n",
            "Epoch [69/100], Training Loss: 0.2464, Validation Loss: 0.7192, Validation Accuracy: 76.20%\n",
            "Epoch [70/100], Training Loss: 0.1268, Validation Loss: 0.7343, Validation Accuracy: 75.17%\n",
            "Epoch [71/100], Training Loss: 0.2661, Validation Loss: 0.7625, Validation Accuracy: 74.18%\n",
            "Epoch [72/100], Training Loss: 0.3017, Validation Loss: 0.6887, Validation Accuracy: 77.05%\n",
            "Epoch [73/100], Training Loss: 0.1923, Validation Loss: 0.6957, Validation Accuracy: 76.67%\n",
            "Epoch [74/100], Training Loss: 0.1894, Validation Loss: 0.6980, Validation Accuracy: 76.63%\n",
            "Epoch [75/100], Training Loss: 0.2603, Validation Loss: 0.6763, Validation Accuracy: 77.17%\n",
            "Epoch [76/100], Training Loss: 0.4775, Validation Loss: 0.6835, Validation Accuracy: 76.87%\n",
            "Epoch [77/100], Training Loss: 0.1872, Validation Loss: 0.6676, Validation Accuracy: 77.69%\n",
            "Epoch [78/100], Training Loss: 0.0754, Validation Loss: 0.6753, Validation Accuracy: 77.31%\n",
            "Epoch [79/100], Training Loss: 0.0429, Validation Loss: 0.6726, Validation Accuracy: 77.48%\n",
            "Epoch [80/100], Training Loss: 0.0618, Validation Loss: 0.6785, Validation Accuracy: 77.11%\n",
            "Epoch [81/100], Training Loss: 0.0667, Validation Loss: 0.6691, Validation Accuracy: 77.28%\n",
            "Epoch [82/100], Training Loss: 0.0485, Validation Loss: 0.7253, Validation Accuracy: 75.95%\n",
            "Epoch [83/100], Training Loss: 0.1321, Validation Loss: 0.6611, Validation Accuracy: 78.09%\n",
            "Epoch [84/100], Training Loss: 0.0505, Validation Loss: 0.6471, Validation Accuracy: 78.14%\n",
            "Epoch [85/100], Training Loss: 0.0692, Validation Loss: 0.6422, Validation Accuracy: 78.60%\n",
            "Epoch [86/100], Training Loss: 0.1347, Validation Loss: 0.7299, Validation Accuracy: 75.88%\n"
          ]
        }
      ]
    }
  ]
}