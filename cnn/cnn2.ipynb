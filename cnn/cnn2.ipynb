{
  "nbformat": 4,
  "nbformat_minor": 0,
  "metadata": {
    "colab": {
      "provenance": [],
      "gpuType": "T4",
      "authorship_tag": "ABX9TyOUkpIapDOToc7r2nRYjXDt",
      "include_colab_link": true
    },
    "kernelspec": {
      "name": "python3",
      "display_name": "Python 3"
    },
    "language_info": {
      "name": "python"
    },
    "accelerator": "GPU"
  },
  "cells": [
    {
      "cell_type": "markdown",
      "metadata": {
        "id": "view-in-github",
        "colab_type": "text"
      },
      "source": [
        "<a href=\"https://colab.research.google.com/github/NoCodeProgram/deepLearning/blob/main/cnn/cnn2.ipynb\" target=\"_parent\"><img src=\"https://colab.research.google.com/assets/colab-badge.svg\" alt=\"Open In Colab\"/></a>"
      ]
    },
    {
      "cell_type": "code",
      "execution_count": 1,
      "metadata": {
        "colab": {
          "base_uri": "https://localhost:8080/"
        },
        "id": "jcplbq_X9FgT",
        "outputId": "e22d770a-dda3-4e96-9fb8-2677c3a0bfad"
      },
      "outputs": [
        {
          "output_type": "stream",
          "name": "stdout",
          "text": [
            "cuda\n"
          ]
        }
      ],
      "source": [
        "import torch\n",
        "import torchvision\n",
        "import matplotlib.pyplot as plt\n",
        "\n",
        "if torch.backends.mps.is_available():\n",
        "    my_device = torch.device('mps')\n",
        "elif torch.cuda.is_available():\n",
        "    my_device = torch.device('cuda')\n",
        "else:\n",
        "    my_device = torch.device('cpu')\n",
        "\n",
        "print(my_device)"
      ]
    },
    {
      "cell_type": "code",
      "source": [
        "import torch\n",
        "import torch.nn as nn\n",
        "import torch.optim as optim\n",
        "import torchvision\n",
        "import torchvision.transforms as transforms\n",
        "\n",
        "# Load CIFAR10 dataset\n",
        "transform = transforms.Compose([\n",
        "    transforms.ToTensor(),\n",
        "    transforms.Normalize((0.5, 0.5, 0.5), (0.5, 0.5, 0.5))\n",
        "])\n",
        "\n",
        "trainset = torchvision.datasets.CIFAR10(root='./data', train=True, download=True, transform=transform)\n",
        "trainloader = torch.utils.data.DataLoader(trainset, batch_size=4, shuffle=True, num_workers=4)\n",
        "\n",
        "testset = torchvision.datasets.CIFAR10(root='./data', train=False, download=True, transform=transform)\n",
        "testloader = torch.utils.data.DataLoader(testset, batch_size=4, shuffle=False, num_workers=4)\n"
      ],
      "metadata": {
        "colab": {
          "base_uri": "https://localhost:8080/"
        },
        "id": "KuyGbFtq-CSW",
        "outputId": "3e2608dc-8204-4d4b-ca54-fb18c641ef74"
      },
      "execution_count": 2,
      "outputs": [
        {
          "output_type": "stream",
          "name": "stdout",
          "text": [
            "Downloading https://www.cs.toronto.edu/~kriz/cifar-10-python.tar.gz to ./data/cifar-10-python.tar.gz\n"
          ]
        },
        {
          "output_type": "stream",
          "name": "stderr",
          "text": [
            "100%|██████████| 170498071/170498071 [00:02<00:00, 78720528.67it/s]\n"
          ]
        },
        {
          "output_type": "stream",
          "name": "stdout",
          "text": [
            "Extracting ./data/cifar-10-python.tar.gz to ./data\n"
          ]
        },
        {
          "output_type": "stream",
          "name": "stderr",
          "text": [
            "/usr/local/lib/python3.10/dist-packages/torch/utils/data/dataloader.py:560: UserWarning: This DataLoader will create 4 worker processes in total. Our suggested max number of worker in current system is 2, which is smaller than what this DataLoader is going to create. Please be aware that excessive worker creation might get DataLoader running slow or even freeze, lower the worker number to avoid potential slowness/freeze if necessary.\n",
            "  warnings.warn(_create_warning_msg(\n"
          ]
        },
        {
          "output_type": "stream",
          "name": "stdout",
          "text": [
            "Files already downloaded and verified\n"
          ]
        }
      ]
    },
    {
      "cell_type": "code",
      "source": [
        "# Define the simple CNN model\n",
        "class SimpleCNN(nn.Module):\n",
        "    def __init__(self):\n",
        "        super().__init__()\n",
        "        self.conv1 = nn.Conv2d(3, 16, 5) # 3 input channels, 6 output channels, 5x5 kernel\n",
        "        self.conv2 = nn.Conv2d(16, 32, 5)\n",
        "        self.conv3 = nn.Conv2d(32, 64, 5) # Adding the third convolutional layer\n",
        "\n",
        "        # CIFAR10 images are 32x32. Three conv layers without pooling or stride reduce the size to 24x24, 20x20, then 16x16.\n",
        "        self.fc1 = nn.Linear(64 * 20 * 20, 120)\n",
        "        self.fc2 = nn.Linear(120, 84)\n",
        "        self.fc3 = nn.Linear(84, 10)  # 10 classes in CIFAR10\n",
        "\n",
        "    def forward(self, x):\n",
        "        x = self.conv1(x)\n",
        "        x = torch.relu(x)\n",
        "        x = self.conv2(x)\n",
        "        x = torch.relu(x)\n",
        "        x = self.conv3(x)           # Adding the forward pass for the third convolutional layer\n",
        "        x = torch.relu(x)\n",
        "        x = torch.flatten(x, 1)\n",
        "        x = torch.relu(self.fc1(x))\n",
        "        x = torch.relu(self.fc2(x))\n",
        "        x = self.fc3(x)\n",
        "        return x\n",
        "\n",
        "\n",
        "\n",
        "# Create the model\n",
        "net = SimpleCNN()\n"
      ],
      "metadata": {
        "id": "LWlvJlDp-EPn"
      },
      "execution_count": 3,
      "outputs": []
    },
    {
      "cell_type": "code",
      "source": [
        "criterion = nn.CrossEntropyLoss()\n",
        "optimizer = optim.Adam(net.parameters(), lr=0.00001)"
      ],
      "metadata": {
        "id": "CSJD4ecl-G44"
      },
      "execution_count": 4,
      "outputs": []
    },
    {
      "cell_type": "code",
      "source": [
        "net.to(my_device)\n",
        "num_epochs = 100\n",
        "for epoch in range(num_epochs):\n",
        "    net.train()\n",
        "    for batch_idx, (data, label) in enumerate(trainloader):\n",
        "        data, label = data.to(my_device), label.to(my_device)\n",
        "        scores = net(data)\n",
        "        loss = criterion(scores, label)\n",
        "\n",
        "        optimizer.zero_grad()\n",
        "        loss.backward()\n",
        "        optimizer.step()\n",
        "\n",
        "    net.eval()\n",
        "    val_loss = 0.0\n",
        "    correct = 0\n",
        "    with torch.no_grad():\n",
        "        for data, label in testloader:\n",
        "            data, label = data.to(my_device), label.to(my_device)\n",
        "            scores = net(data)\n",
        "            loss = criterion(scores, label)\n",
        "            val_loss += loss.item() * data.size(0)\n",
        "\n",
        "            predicted = scores.argmax(dim=1)\n",
        "            correct += predicted.eq(label).sum().item()\n",
        "\n",
        "    val_loss /= len(testloader.dataset)\n",
        "    val_accuracy = 100. * correct / len(testloader.dataset)\n",
        "\n",
        "    print(f\"Epoch [{epoch + 1}/{num_epochs}], Training Loss: {loss.item():.4f}, Validation Loss: {val_loss:.4f}, Validation Accuracy: {val_accuracy:.2f}%\")\n"
      ],
      "metadata": {
        "colab": {
          "base_uri": "https://localhost:8080/"
        },
        "id": "gxGnim01-Ibm",
        "outputId": "a3df4419-44dd-4d48-b240-8164a0fff954"
      },
      "execution_count": null,
      "outputs": [
        {
          "output_type": "stream",
          "name": "stdout",
          "text": [
            "Epoch [1/2300], Training Loss: 1.6078, Validation Loss: 1.6847, Validation Accuracy: 39.97%\n",
            "Epoch [2/2300], Training Loss: 1.2575, Validation Loss: 1.5395, Validation Accuracy: 44.33%\n",
            "Epoch [3/2300], Training Loss: 1.1016, Validation Loss: 1.4794, Validation Accuracy: 46.01%\n",
            "Epoch [4/2300], Training Loss: 0.9029, Validation Loss: 1.4204, Validation Accuracy: 48.65%\n",
            "Epoch [5/2300], Training Loss: 0.7592, Validation Loss: 1.3979, Validation Accuracy: 49.34%\n",
            "Epoch [6/2300], Training Loss: 0.8330, Validation Loss: 1.3740, Validation Accuracy: 51.11%\n",
            "Epoch [7/2300], Training Loss: 0.6635, Validation Loss: 1.3432, Validation Accuracy: 52.18%\n",
            "Epoch [8/2300], Training Loss: 0.6160, Validation Loss: 1.3048, Validation Accuracy: 53.50%\n"
          ]
        }
      ]
    }
  ]
}