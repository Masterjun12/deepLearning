{
  "nbformat": 4,
  "nbformat_minor": 0,
  "metadata": {
    "colab": {
      "provenance": [],
      "authorship_tag": "ABX9TyNxVtBlT0O+ECg4lP4J7JTv",
      "include_colab_link": true
    },
    "kernelspec": {
      "name": "python3",
      "display_name": "Python 3"
    },
    "language_info": {
      "name": "python"
    }
  },
  "cells": [
    {
      "cell_type": "markdown",
      "metadata": {
        "id": "view-in-github",
        "colab_type": "text"
      },
      "source": [
        "<a href=\"https://colab.research.google.com/github/NoCodeProgram/deepLearning/blob/main/detectSegment/detectIntro.ipynb\" target=\"_parent\"><img src=\"https://colab.research.google.com/assets/colab-badge.svg\" alt=\"Open In Colab\"/></a>"
      ]
    },
    {
      "cell_type": "code",
      "execution_count": 4,
      "metadata": {
        "id": "JM2F98SfPFig"
      },
      "outputs": [],
      "source": [
        "from torchvision.io.image import read_image\n",
        "from torchvision.models.detection import fasterrcnn_resnet50_fpn_v2, FasterRCNN_ResNet50_FPN_V2_Weights\n",
        "from torchvision.utils import draw_bounding_boxes\n",
        "from torchvision.transforms.functional import to_pil_image\n",
        "\n",
        "img = read_image(\"trackingSample.jpeg\")\n",
        "\n",
        "# Step 1: Initialize model with the best available weights\n",
        "weights = FasterRCNN_ResNet50_FPN_V2_Weights.DEFAULT\n",
        "model = fasterrcnn_resnet50_fpn_v2(weights=weights, box_score_thresh=0.9)\n",
        "model.eval()\n",
        "\n",
        "# Step 2: Initialize the inference transforms\n",
        "preprocess = weights.transforms()\n",
        "\n",
        "# Step 3: Apply inference preprocessing transforms\n",
        "batch = [preprocess(img)]\n",
        "\n",
        "# Step 4: Use the model and visualize the prediction\n",
        "prediction = model(batch)[0]\n",
        "labels = [weights.meta[\"categories\"][i] for i in prediction[\"labels\"]]\n",
        "box = draw_bounding_boxes(img, boxes=prediction[\"boxes\"],\n",
        "                          labels=labels,\n",
        "                          colors=\"red\",\n",
        "                          width=4, font_size=30)\n",
        "im = to_pil_image(box.detach())\n",
        "im.show()"
      ]
    },
    {
      "cell_type": "code",
      "source": [
        "print(weights.meta[\"categories\"])\n",
        "print(prediction.keys())\n",
        "print(prediction['scores'].shape)\n",
        "print(prediction['scores'])"
      ],
      "metadata": {
        "colab": {
          "base_uri": "https://localhost:8080/"
        },
        "id": "kNoGdE99PPlj",
        "outputId": "c6228e78-4b2a-48eb-cdcb-e7db299a773d"
      },
      "execution_count": 5,
      "outputs": [
        {
          "output_type": "stream",
          "name": "stdout",
          "text": [
            "['__background__', 'person', 'bicycle', 'car', 'motorcycle', 'airplane', 'bus', 'train', 'truck', 'boat', 'traffic light', 'fire hydrant', 'N/A', 'stop sign', 'parking meter', 'bench', 'bird', 'cat', 'dog', 'horse', 'sheep', 'cow', 'elephant', 'bear', 'zebra', 'giraffe', 'N/A', 'backpack', 'umbrella', 'N/A', 'N/A', 'handbag', 'tie', 'suitcase', 'frisbee', 'skis', 'snowboard', 'sports ball', 'kite', 'baseball bat', 'baseball glove', 'skateboard', 'surfboard', 'tennis racket', 'bottle', 'N/A', 'wine glass', 'cup', 'fork', 'knife', 'spoon', 'bowl', 'banana', 'apple', 'sandwich', 'orange', 'broccoli', 'carrot', 'hot dog', 'pizza', 'donut', 'cake', 'chair', 'couch', 'potted plant', 'bed', 'N/A', 'dining table', 'N/A', 'N/A', 'toilet', 'N/A', 'tv', 'laptop', 'mouse', 'remote', 'keyboard', 'cell phone', 'microwave', 'oven', 'toaster', 'sink', 'refrigerator', 'N/A', 'book', 'clock', 'vase', 'scissors', 'teddy bear', 'hair drier', 'toothbrush']\n",
            "dict_keys(['boxes', 'labels', 'scores'])\n",
            "torch.Size([12])\n",
            "tensor([0.9997, 0.9976, 0.9965, 0.9952, 0.9869, 0.9854, 0.9764, 0.9673, 0.9655,\n",
            "        0.9514, 0.9509, 0.9172], grad_fn=<IndexBackward0>)\n"
          ]
        }
      ]
    }
  ]
}