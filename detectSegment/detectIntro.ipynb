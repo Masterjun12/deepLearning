{
  "nbformat": 4,
  "nbformat_minor": 0,
  "metadata": {
    "colab": {
      "provenance": [],
      "authorship_tag": "ABX9TyMuRYbRDaPvNaY/w92P2oFq",
      "include_colab_link": true
    },
    "kernelspec": {
      "name": "python3",
      "display_name": "Python 3"
    },
    "language_info": {
      "name": "python"
    }
  },
  "cells": [
    {
      "cell_type": "markdown",
      "metadata": {
        "id": "view-in-github",
        "colab_type": "text"
      },
      "source": [
        "<a href=\"https://colab.research.google.com/github/NoCodeProgram/deepLearning/blob/main/detectSegment/detectIntro.ipynb\" target=\"_parent\"><img src=\"https://colab.research.google.com/assets/colab-badge.svg\" alt=\"Open In Colab\"/></a>"
      ]
    },
    {
      "cell_type": "code",
      "execution_count": 4,
      "metadata": {
        "id": "JM2F98SfPFig"
      },
      "outputs": [],
      "source": [
        "from torchvision.io.image import read_image\n",
        "from torchvision.models.detection import fasterrcnn_resnet50_fpn_v2, FasterRCNN_ResNet50_FPN_V2_Weights\n",
        "from torchvision.utils import draw_bounding_boxes\n",
        "from torchvision.transforms.functional import to_pil_image\n",
        "\n",
        "img = read_image(\"trackingSample.jpeg\")\n",
        "\n",
        "# Step 1: Initialize model with the best available weights\n",
        "weights = FasterRCNN_ResNet50_FPN_V2_Weights.DEFAULT\n",
        "model = fasterrcnn_resnet50_fpn_v2(weights=weights, box_score_thresh=0.9)\n",
        "model.eval()\n",
        "\n",
        "# Step 2: Initialize the inference transforms\n",
        "preprocess = weights.transforms()\n",
        "\n",
        "# Step 3: Apply inference preprocessing transforms\n",
        "batch = [preprocess(img)]\n",
        "\n",
        "# Step 4: Use the model and visualize the prediction\n",
        "prediction = model(batch)[0]\n",
        "labels = [weights.meta[\"categories\"][i] for i in prediction[\"labels\"]]\n",
        "box = draw_bounding_boxes(img, boxes=prediction[\"boxes\"],\n",
        "                          labels=labels,\n",
        "                          colors=\"red\",\n",
        "                          width=4, font_size=30)\n",
        "im = to_pil_image(box.detach())\n",
        "im.show()"
      ]
    },
    {
      "cell_type": "code",
      "source": [],
      "metadata": {
        "id": "kNoGdE99PPlj"
      },
      "execution_count": null,
      "outputs": []
    }
  ]
}