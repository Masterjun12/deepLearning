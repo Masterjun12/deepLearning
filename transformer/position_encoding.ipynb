{
  "nbformat": 4,
  "nbformat_minor": 0,
  "metadata": {
    "colab": {
      "provenance": [],
      "authorship_tag": "ABX9TyNJPXUbktA7my0LydmVRwH9",
      "include_colab_link": true
    },
    "kernelspec": {
      "name": "python3",
      "display_name": "Python 3"
    },
    "language_info": {
      "name": "python"
    }
  },
  "cells": [
    {
      "cell_type": "markdown",
      "metadata": {
        "id": "view-in-github",
        "colab_type": "text"
      },
      "source": [
        "<a href=\"https://colab.research.google.com/github/NoCodeProgram/deepLearning/blob/main/transformer/position_encoding.ipynb\" target=\"_parent\"><img src=\"https://colab.research.google.com/assets/colab-badge.svg\" alt=\"Open In Colab\"/></a>"
      ]
    },
    {
      "cell_type": "code",
      "execution_count": 1,
      "metadata": {
        "colab": {
          "base_uri": "https://localhost:8080/"
        },
        "id": "tL22rLWA-z7R",
        "outputId": "32b9d549-5a29-4562-ba2f-3653abffdab7"
      },
      "outputs": [
        {
          "output_type": "stream",
          "name": "stdout",
          "text": [
            "Cloning into 'deepLearning'...\n",
            "remote: Enumerating objects: 274, done.\u001b[K\n",
            "remote: Counting objects: 100% (135/135), done.\u001b[K\n",
            "remote: Compressing objects: 100% (78/78), done.\u001b[K\n",
            "remote: Total 274 (delta 55), reused 135 (delta 55), pack-reused 139\u001b[K\n",
            "Receiving objects: 100% (274/274), 12.41 MiB | 19.68 MiB/s, done.\n",
            "Resolving deltas: 100% (91/91), done.\n"
          ]
        }
      ],
      "source": [
        "!git clone https://github.com/NoCodeProgram/deepLearning.git"
      ]
    },
    {
      "cell_type": "code",
      "source": [
        "import torch\n",
        "from torchtext.data.utils import get_tokenizer\n",
        "from torchtext.vocab import build_vocab_from_iterator\n",
        "\n",
        "# Read the text file\n",
        "with open('deepLearning/transformer/shakespeare.txt', 'r') as file:\n",
        "    text = file.read()\n",
        "\n",
        "# Tokenize the text  (this is very simple tokenizer, in reality you would use a more advanced one)\n",
        "tokenizer = get_tokenizer('basic_english')\n",
        "tokens = tokenizer(text)\n",
        "unique_tokens = set(tokens)"
      ],
      "metadata": {
        "id": "p3eLxqyw-48x"
      },
      "execution_count": 2,
      "outputs": []
    },
    {
      "cell_type": "code",
      "source": [
        "stoi = { s:i for i,s in enumerate(unique_tokens)}\n",
        "itos = { i:s for i,s in enumerate(unique_tokens)}\n",
        "# print(stoi)\n",
        "# print(itos)\n",
        "\n",
        "vocab_size = len(unique_tokens)\n",
        "print(vocab_size)\n",
        ""
      ],
      "metadata": {
        "colab": {
          "base_uri": "https://localhost:8080/"
        },
        "id": "jXDmBGoB_R0C",
        "outputId": "75451ede-71db-44cf-9ec6-2897101e801c"
      },
      "execution_count": 3,
      "outputs": [
        {
          "output_type": "stream",
          "name": "stdout",
          "text": [
            "3129\n"
          ]
        }
      ]
    },
    {
      "cell_type": "code",
      "source": [
        "sentence = \"i love you all\"\n",
        "indices = [stoi[word] for word in sentence.split()]\n",
        "print(indices)\n"
      ],
      "metadata": {
        "colab": {
          "base_uri": "https://localhost:8080/"
        },
        "id": "228obq74_VbE",
        "outputId": "7b1a4749-331c-47c9-a277-124b041d2728"
      },
      "execution_count": 11,
      "outputs": [
        {
          "output_type": "stream",
          "name": "stdout",
          "text": [
            "[755, 1032, 176, 707]\n"
          ]
        }
      ]
    },
    {
      "cell_type": "code",
      "source": [
        "import torch\n",
        "import torch.nn as nn\n",
        "import torch.nn.functional as F\n",
        "\n",
        "class SelfAttention(nn.Module):\n",
        "    def __init__(self, embed_dim, atten_dim):\n",
        "        super().__init__()\n",
        "        self.query = nn.Linear(embed_dim, atten_dim, bias=False)\n",
        "        self.key = nn.Linear(embed_dim, atten_dim, bias=False)\n",
        "        self.value = nn.Linear(embed_dim, atten_dim, bias=False)\n",
        "\n",
        "    def forward(self, x):\n",
        "        query = self.query(x)\n",
        "        key = self.key(x)\n",
        "        value = self.value(x)\n",
        "\n",
        "        scores = torch.matmul(query, key.transpose(-2, -1))\n",
        "        scores = scores / key.size(-1)**0.5\n",
        "\n",
        "        attention_weights = F.softmax(scores, dim=-1)\n",
        "        weighted_values = torch.matmul(attention_weights, value)\n",
        "\n",
        "        return weighted_values"
      ],
      "metadata": {
        "id": "bwM0s6KE_X7e"
      },
      "execution_count": 28,
      "outputs": []
    },
    {
      "cell_type": "code",
      "source": [
        "class MultiheadAttention(nn.Module):\n",
        "    def __init__(self, embed_dim, num_heads):\n",
        "        super().__init__()\n",
        "        attention_dim = embed_dim // num_heads\n",
        "        self.attentions = nn.ModuleList([SelfAttention(embed_dim, attention_dim) for _ in range(num_heads)])\n",
        "        self.fc = nn.Linear(embed_dim, embed_dim)\n",
        "\n",
        "    def forward(self, x):\n",
        "        head_outputs = []\n",
        "        for attention in self.attentions:\n",
        "            head_output = attention(x)\n",
        "            head_outputs.append(head_output)\n",
        "\n",
        "        concatenated_heads = torch.cat(head_outputs, dim=-1)\n",
        "        output = self.fc(concatenated_heads)\n",
        "        return output"
      ],
      "metadata": {
        "id": "yc3CHJBv_Z00"
      },
      "execution_count": 29,
      "outputs": []
    },
    {
      "cell_type": "code",
      "source": [
        "class FeedFoward(nn.Module):\n",
        "    def __init__(self, embed_dim, ff_dim):\n",
        "        super().__init__()\n",
        "        self.net = nn.Sequential(\n",
        "            nn.Linear(embed_dim, ff_dim),\n",
        "            nn.ReLU(),\n",
        "            nn.Linear(ff_dim, embed_dim),\n",
        "        )\n",
        "    def forward(self, x):\n",
        "        return self.net(x)"
      ],
      "metadata": {
        "id": "nlvMJin3_b0A"
      },
      "execution_count": 30,
      "outputs": []
    },
    {
      "cell_type": "code",
      "source": [
        "class EncoderBlock(nn.Module):\n",
        "    def __init__(self, embed_dim, n_head):\n",
        "        super().__init__()\n",
        "        self.layer_norm1 = nn.LayerNorm(embed_dim)\n",
        "        self.multihead_atten = MultiheadAttention(embed_dim, n_head)\n",
        "\n",
        "        self.layer_norm2 = nn.LayerNorm(embed_dim)\n",
        "        self.feed_forward = FeedFoward(embed_dim, 4*embed_dim)\n",
        "\n",
        "    def forward(self, x):\n",
        "        x = x + self.multihead_atten(self.layer_norm1(x))\n",
        "        x = x + self.feed_forward(self.layer_norm2(x))\n",
        "        return x"
      ],
      "metadata": {
        "id": "vNLqijsd_dkA"
      },
      "execution_count": 31,
      "outputs": []
    },
    {
      "cell_type": "code",
      "source": [
        "class TransforemrWithEmbedding(nn.Module):\n",
        "    def __init__(self, vocab_size, embed_dim, n_heads, n_layers, max_len, num_classes=2):\n",
        "        super().__init__()\n",
        "        self.embed_dim = embed_dim\n",
        "        self.word_embedding = nn.Embedding(vocab_size, embed_dim)\n",
        "        self.positional_encoding = nn.Embedding(max_len, embed_dim)\n",
        "        self.transformer_encoders = nn.Sequential(*[EncoderBlock(embed_dim, n_heads) for _ in range(n_layers)])\n",
        "\n",
        "\n",
        "    def forward(self, x):\n",
        "        word_embedding = self.word_embedding(x)\n",
        "        positions = torch.arange(0, x.size(1), device=x.device).unsqueeze(0)\n",
        "        pos_embeddings = self.positional_encoding(positions)\n",
        "        x = word_embedding + pos_embeddings\n",
        "        x = self.transformer_encoders(x)\n",
        "\n",
        "        return x"
      ],
      "metadata": {
        "id": "vmP9_Q_u_nVF"
      },
      "execution_count": 35,
      "outputs": []
    },
    {
      "cell_type": "code",
      "source": [
        "embed_dim = 20\n",
        "n_head = 4\n",
        "n_layers = 4\n",
        "max_len = 4\n",
        "\n",
        "input_tensor = torch.tensor(indices)[None,:]\n",
        "model = TransforemrWithEmbedding(vocab_size=vocab_size, embed_dim=embed_dim, n_heads=n_head, n_layers=n_layers, max_len=max_len)\n",
        "output = model(input_tensor)\n",
        "print(output.shape)"
      ],
      "metadata": {
        "colab": {
          "base_uri": "https://localhost:8080/"
        },
        "id": "ECV7oBWwAehY",
        "outputId": "2d3ba0cf-4fc5-4da5-a712-054fab37ebc6"
      },
      "execution_count": 36,
      "outputs": [
        {
          "output_type": "stream",
          "name": "stdout",
          "text": [
            "torch.Size([1, 4, 20])\n"
          ]
        }
      ]
    },
    {
      "cell_type": "code",
      "source": [],
      "metadata": {
        "id": "_hiCYKraBrK5"
      },
      "execution_count": null,
      "outputs": []
    }
  ]
}