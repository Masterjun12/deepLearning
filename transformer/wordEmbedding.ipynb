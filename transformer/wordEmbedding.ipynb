{
  "nbformat": 4,
  "nbformat_minor": 0,
  "metadata": {
    "colab": {
      "provenance": [],
      "authorship_tag": "ABX9TyPPFxIa+jlPK1TFIQ58l5Rm",
      "include_colab_link": true
    },
    "kernelspec": {
      "name": "python3",
      "display_name": "Python 3"
    },
    "language_info": {
      "name": "python"
    }
  },
  "cells": [
    {
      "cell_type": "markdown",
      "metadata": {
        "id": "view-in-github",
        "colab_type": "text"
      },
      "source": [
        "<a href=\"https://colab.research.google.com/github/NoCodeProgram/deepLearning/blob/main/transformer/wordEmbedding.ipynb\" target=\"_parent\"><img src=\"https://colab.research.google.com/assets/colab-badge.svg\" alt=\"Open In Colab\"/></a>"
      ]
    },
    {
      "cell_type": "code",
      "source": [
        "!pip install gensim"
      ],
      "metadata": {
        "id": "d5HPSFydqbj3"
      },
      "execution_count": null,
      "outputs": []
    },
    {
      "cell_type": "code",
      "execution_count": 1,
      "metadata": {
        "colab": {
          "base_uri": "https://localhost:8080/"
        },
        "id": "N9LfEyh3qS6v",
        "outputId": "6e57f924-0731-4144-f2d0-ab076382b169"
      },
      "outputs": [
        {
          "output_type": "stream",
          "name": "stdout",
          "text": [
            "__testing_word2vec-matrix-synopsis (-1 records): [THIS IS ONLY FOR TESTING] Word vecrors ...\n",
            "conceptnet-numberbatch-17-06-300 (1917247 records): ConceptNet Numberbatch consists of state...\n",
            "fasttext-wiki-news-subwords-300 (999999 records): 1 million word vectors trained on Wikipe...\n",
            "glove-twitter-100 (1193514 records): Pre-trained vectors based on  2B tweets,...\n",
            "glove-twitter-200 (1193514 records): Pre-trained vectors based on 2B tweets, ...\n",
            "glove-twitter-25 (1193514 records): Pre-trained vectors based on 2B tweets, ...\n",
            "glove-twitter-50 (1193514 records): Pre-trained vectors based on 2B tweets, ...\n",
            "glove-wiki-gigaword-100 (400000 records): Pre-trained vectors based on Wikipedia 2...\n",
            "glove-wiki-gigaword-200 (400000 records): Pre-trained vectors based on Wikipedia 2...\n",
            "glove-wiki-gigaword-300 (400000 records): Pre-trained vectors based on Wikipedia 2...\n",
            "glove-wiki-gigaword-50 (400000 records): Pre-trained vectors based on Wikipedia 2...\n",
            "word2vec-google-news-300 (3000000 records): Pre-trained vectors trained on a part of...\n",
            "word2vec-ruscorpora-300 (184973 records): Word2vec Continuous Skipgram vectors tra...\n"
          ]
        }
      ],
      "source": [
        "import gensim.downloader as api\n",
        "for model_name, model_data in sorted(api.info()['models'].items()):\n",
        "    print(\n",
        "        '%s (%d records): %s' % (\n",
        "            model_name,\n",
        "            model_data.get('num_records', -1),\n",
        "            model_data['description'][:40] + '...',\n",
        "        )\n",
        "    )"
      ]
    },
    {
      "cell_type": "code",
      "source": [
        "model = api.load(\"word2vec-google-news-300\")"
      ],
      "metadata": {
        "colab": {
          "base_uri": "https://localhost:8080/"
        },
        "id": "AYlLVn9SqaBU",
        "outputId": "d39b0a3a-6431-41b2-83fe-52fabe57c7f5"
      },
      "execution_count": 2,
      "outputs": [
        {
          "output_type": "stream",
          "name": "stdout",
          "text": [
            "[==================================================] 100.0% 1662.8/1662.8MB downloaded\n"
          ]
        }
      ]
    },
    {
      "cell_type": "code",
      "source": [
        "print(model.most_similar(\"cat\"))"
      ],
      "metadata": {
        "colab": {
          "base_uri": "https://localhost:8080/"
        },
        "id": "vfPSNqwnqfCX",
        "outputId": "7d4dcbbc-0ac4-4b1e-8039-5055d916fe81"
      },
      "execution_count": 3,
      "outputs": [
        {
          "output_type": "stream",
          "name": "stdout",
          "text": [
            "[('cats', 0.8099379539489746), ('dog', 0.760945737361908), ('kitten', 0.7464985251426697), ('feline', 0.7326234579086304), ('beagle', 0.7150582671165466), ('puppy', 0.7075453400611877), ('pup', 0.6934291124343872), ('pet', 0.6891531348228455), ('felines', 0.6755931973457336), ('chihuahua', 0.6709762215614319)]\n"
          ]
        }
      ]
    },
    {
      "cell_type": "code",
      "source": [
        "print(model.most_similar_cosmul(positive=['Seoul', 'France'], negative=['Paris']))"
      ],
      "metadata": {
        "colab": {
          "base_uri": "https://localhost:8080/"
        },
        "id": "s5puRAWsqgkA",
        "outputId": "70bf9821-8022-4437-ae47-ab95e32e2e80"
      },
      "execution_count": 4,
      "outputs": [
        {
          "output_type": "stream",
          "name": "stdout",
          "text": [
            "[('South_Korea', 1.0531545877456665), ('Korea', 0.9701053500175476), ('South_Korean', 0.9288336634635925), ('Koreans', 0.9077238440513611), ('Japan', 0.9035927057266235), ('Korean', 0.903152346611023), ('Korea_ROK', 0.9019569754600525), ('SEOUL_NORTH', 0.8990684747695923), ('North_Korea', 0.894801914691925), ('SKorea', 0.8826186656951904)]\n"
          ]
        }
      ]
    },
    {
      "cell_type": "code",
      "source": [
        "print(model.most_similar_cosmul(positive=['father','woman'], negative=['man']))\n",
        "print(model.most_similar_cosmul(positive=['brother','woman'], negative=['man']))\n"
      ],
      "metadata": {
        "colab": {
          "base_uri": "https://localhost:8080/"
        },
        "id": "lmy9qYWTqjz4",
        "outputId": "fc11ca5d-787f-4780-bc0f-ab0c04264eb3"
      },
      "execution_count": 5,
      "outputs": [
        {
          "output_type": "stream",
          "name": "stdout",
          "text": [
            "[('mother', 1.025557279586792), ('daughter', 0.991381824016571), ('husband', 0.9660825729370117), ('eldest_daughter', 0.9520994424819946), ('sister', 0.9376709461212158), ('niece', 0.936501145362854), ('aunt', 0.9253349304199219), ('son', 0.9216511249542236), ('daughters', 0.9201593995094299), ('grandmother', 0.9164769649505615)]\n",
            "[('sister', 0.9868288636207581), ('daughter', 0.9439969658851624), ('mother', 0.9323136806488037), ('niece', 0.9161031246185303), ('husband', 0.9111152291297913), ('eldest_daughter', 0.9024129509925842), ('son', 0.8947044014930725), ('aunt', 0.8915907740592957), ('father', 0.8845487833023071), ('sisters', 0.873971164226532)]\n"
          ]
        }
      ]
    },
    {
      "cell_type": "code",
      "source": [
        "print(model.most_similar_cosmul(positive=['soju','mexico'], negative=['korea']))\n",
        "print(model.most_similar_cosmul(positive=['soju','russia'], negative=['korea']))"
      ],
      "metadata": {
        "colab": {
          "base_uri": "https://localhost:8080/"
        },
        "id": "7iNYa9T7qlOR",
        "outputId": "fed3e0b5-b388-48f2-955c-0bab403796dc"
      },
      "execution_count": 6,
      "outputs": [
        {
          "output_type": "stream",
          "name": "stdout",
          "text": [
            "[('tequila', 0.8992794156074524), ('mezcal', 0.8555493950843811), ('agave_tequila', 0.8524277806282043), ('Modelo_Especial', 0.836313784122467), ('pulque', 0.8301872611045837), ('mescal', 0.8242558240890503), ('distilled_liquor', 0.8173635601997375), ('Agavero', 0.8148321509361267), ('rum', 0.8130227327346802), ('michelada', 0.8111985325813293)]\n",
            "[('vodka', 0.8616750240325928), ('brandy', 0.8266340494155884), ('distilled_liquor', 0.8266003727912903), ('Ochakovo', 0.8215005397796631), ('Campari', 0.8179371953010559), ('brandy_cognac', 0.8096943497657776), ('Bombay_Sapphire_gin', 0.8087176084518433), ('plum_brandy', 0.8080827593803406), ('Spanish_cava', 0.8054169416427612), ('whiskey_brandy', 0.8039817214012146)]\n"
          ]
        }
      ]
    }
  ]
}